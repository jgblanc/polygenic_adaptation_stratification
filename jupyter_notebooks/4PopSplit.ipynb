{
 "cells": [
  {
   "cell_type": "markdown",
   "metadata": {},
   "source": [
    "## 4PopSplit  "
   ]
  },
  {
   "cell_type": "code",
   "execution_count": 1,
   "metadata": {},
   "outputs": [],
   "source": [
    "import stdpopsim\n",
    "import numpy as np\n",
    "from matplotlib import pyplot as plt\n",
    "import statistics\n",
    "import math\n",
    "import tskit\n",
    "from collections import Counter\n",
    "import csv\n",
    "from sklearn.linear_model import LinearRegression\n",
    "import msprime\n",
    "from random import sample \n",
    "%load_ext rpy2.ipython"
   ]
  },
  {
   "cell_type": "code",
   "execution_count": 2,
   "metadata": {},
   "outputs": [],
   "source": [
    "def split(N_A, N_B, N_C, N_D, split_time1, split_time2, sample_A, sample_B, sample_C, sample_D, seg_length, recomb_rate, mut_rate):\n",
    "\n",
    "    # Times are provided in years, so we convert into generations.\n",
    "    generation_time = 25\n",
    "    T_S1 = split_time1 / generation_time\n",
    "    T_S2 = split_time2 / generation_time\n",
    "\n",
    "\n",
    "    # Population IDs correspond to their indexes in the population\n",
    "    # configuration array. Therefore, we have 0=A, 1=B, 2=C, 3=D initially.\n",
    "    population_configurations = [\n",
    "        msprime.PopulationConfiguration(\n",
    "            sample_size=sample_A, initial_size=N_A),\n",
    "        msprime.PopulationConfiguration(\n",
    "            sample_size=sample_B, initial_size=N_B), \n",
    "        msprime.PopulationConfiguration(\n",
    "            sample_size=sample_C, initial_size=N_C),\n",
    "        msprime.PopulationConfiguration(\n",
    "            sample_size=sample_D, initial_size=N_D)\n",
    "    ]\n",
    "\n",
    "    demographic_events = [\n",
    "        msprime.MassMigration(\n",
    "            time=T_S2, source=3, destination=2, proportion=1.0),\n",
    "        msprime.MassMigration(\n",
    "            time=T_S2, source=1, destination=0, proportion=1.0),\n",
    "        msprime.MassMigration(\n",
    "            time=T_S1, source=2, destination = 0, proportion=1.0)\n",
    "    ]\n",
    "    # Use the demography debugger to print out the demographic history\n",
    "    # that we have just described.\n",
    "    dd = msprime.DemographyDebugger(\n",
    "        population_configurations=population_configurations,\n",
    "        demographic_events=demographic_events)\n",
    "    #dd.print_history()\n",
    "    \n",
    "    ts = msprime.simulate(population_configurations=population_configurations,\n",
    "                         demographic_events=demographic_events, length=seg_length, recombination_rate=recomb_rate)\n",
    "    ts = msprime.mutate(ts,rate=mut_rate)\n",
    "    return ts"
   ]
  },
  {
   "cell_type": "code",
   "execution_count": 3,
   "metadata": {},
   "outputs": [],
   "source": [
    "def genotype_matrix(ts, sample_A, sample_B, sample_C, sample_D):\n",
    "    G = ts.genotype_matrix()\n",
    "    A = G[:,0:sample_A]\n",
    "    B = G[:,sample_A:(sample_A+sample_B)]\n",
    "    C = G[:,(sample_A+sample_B):(sample_A+sample_B+sample_C)]\n",
    "    D = G[:,(sample_A+sample_B+sample_C):(sample_A+sample_B+sample_C+sample_D)]\n",
    "    return A, B, C, D"
   ]
  },
  {
   "cell_type": "code",
   "execution_count": 4,
   "metadata": {},
   "outputs": [],
   "source": [
    "def make_diploids(G_hap, ploidy):\n",
    "    G = np.empty((G_hap.shape[0], (G_hap.shape[1]//ploidy)))\n",
    "    num_hap = list(range(0,int(G_hap.shape[1]),1))\n",
    "    indxs = random_choice_noreplace2(list(range(0,int(G_hap.shape[1]),1)), ploidy,(G_hap.shape[1]//ploidy))\n",
    "    \n",
    "    for i in range(0, (G_hap.shape[1]//ploidy)):\n",
    "        G[:,i] = add_haploids(indxs[i], G_hap)\n",
    "        \n",
    "    return G"
   ]
  },
  {
   "cell_type": "code",
   "execution_count": 5,
   "metadata": {},
   "outputs": [],
   "source": [
    "def add_haploids(indx,G_hap):\n",
    "    tmp = np.sum(G_hap[:,indx],1)\n",
    "    return tmp"
   ]
  },
  {
   "cell_type": "code",
   "execution_count": 6,
   "metadata": {},
   "outputs": [],
   "source": [
    "def random_choice_noreplace2(l, n_sample, num_draw):\n",
    "    '''\n",
    "    l: 1-D array or list\n",
    "    n_sample: sample size for each draw\n",
    "    num_draw: number of draws\n",
    "\n",
    "    Intuition: Randomly generate numbers, get the index of the smallest n_sample number for each row.\n",
    "    '''\n",
    "    l = np.array(l)\n",
    "    return l[np.argpartition(np.random.rand(num_draw,len(l)), n_sample-1,axis=-1)[:,:n_sample]]"
   ]
  },
  {
   "cell_type": "code",
   "execution_count": 7,
   "metadata": {},
   "outputs": [],
   "source": [
    "def make_panel(pop1, pop2):\n",
    "    return np.concatenate((pop1,pop2), axis=0)"
   ]
  },
  {
   "cell_type": "code",
   "execution_count": 8,
   "metadata": {},
   "outputs": [],
   "source": [
    "def get_effect_sizes(L, h2, m):\n",
    "    B = np.zeros(L)\n",
    "    for i in range(0,L):\n",
    "        if i % m == 0:\n",
    "            B[i] = np.random.normal(0,h2/m)\n",
    "    return B"
   ]
  },
  {
   "cell_type": "code",
   "execution_count": 9,
   "metadata": {},
   "outputs": [],
   "source": [
    "def get_X(G, B):  \n",
    "    X = []\n",
    "    for i in range(0,G.shape[0]):\n",
    "        X.append(np.dot(B,G[i,]))\n",
    "    return X"
   ]
  },
  {
   "cell_type": "code",
   "execution_count": 10,
   "metadata": {},
   "outputs": [],
   "source": [
    "def get_Z(X, n):\n",
    "    Z = []\n",
    "    mu_x = statistics.mean(X)\n",
    "    std_x = statistics.stdev(X)\n",
    "    for i in range(0,n):\n",
    "        Z.append((X[i]-mu_x) / std_x)\n",
    "    return Z"
   ]
  },
  {
   "cell_type": "code",
   "execution_count": 11,
   "metadata": {},
   "outputs": [],
   "source": [
    "def get_Ze(n, h2): \n",
    "    e = []\n",
    "    for i in range(0,n):\n",
    "        e.append(np.random.normal(0,1-h2))\n",
    "    Ze = []\n",
    "    mu_e = statistics.mean(e)\n",
    "    std_e = statistics.stdev(e)\n",
    "    for i in range(0,n):\n",
    "        Ze.append((e[i]-mu_e) / std_e)\n",
    "        \n",
    "    return Ze"
   ]
  },
  {
   "cell_type": "code",
   "execution_count": 12,
   "metadata": {},
   "outputs": [],
   "source": [
    "def get_L(Z, Ze, h2, n):\n",
    "    L = []\n",
    "    for i in range(0,n):\n",
    "        G_comp = math.sqrt(h2) * Z[i]\n",
    "        E_comp = math.sqrt(1-h2) * Ze[i]\n",
    "        #Stratification effect in African \n",
    "        #if i > (G.shape[1]/2): \n",
    "        #    E_comp = E_comp + abs(np.random.normal(2,1))\n",
    "        L.append(G_comp+E_comp)\n",
    "    return L"
   ]
  },
  {
   "cell_type": "code",
   "execution_count": 48,
   "metadata": {},
   "outputs": [],
   "source": [
    "def get_phenotypes(B, G, h2, m):\n",
    "    n = G.shape[0]\n",
    "    X = get_X(G, B)\n",
    "    n= G.shape[0]\n",
    "    Z = get_Z(X, n)\n",
    "    Ze = get_Ze(n, h2)\n",
    "    L = get_L(Z, Ze, h2, n)\n",
    "    return L"
   ]
  },
  {
   "cell_type": "code",
   "execution_count": 14,
   "metadata": {},
   "outputs": [],
   "source": [
    "def GWAS(G_sample, phenotype):\n",
    "    marg_beta = np.zeros(G_sample.shape[1])\n",
    "    y = np.array(phenotype)\n",
    "    for i in range(0,G_sample.shape[1]):\n",
    "        x = G_sample[:,i].reshape(-1, 1)\n",
    "        #model = LogisticRegression(solver='liblinear', random_state=0).fit(x, y)\n",
    "        model = LinearRegression().fit(x, y)\n",
    "        marg_beta[i] = model.coef_\n",
    "    return marg_beta"
   ]
  },
  {
   "cell_type": "code",
   "execution_count": 15,
   "metadata": {},
   "outputs": [],
   "source": [
    "def PGS(G, beta_hat):\n",
    "    X = []\n",
    "    for i in range(0,G.shape[0]):\n",
    "        X.append(np.dot(beta_hat,G[i,]))\n",
    "    return X   "
   ]
  },
  {
   "cell_type": "code",
   "execution_count": 16,
   "metadata": {},
   "outputs": [],
   "source": [
    "def make_test_vec(n):\n",
    "    t = np.zeros(n)\n",
    "    t[0:int(n/2)] = 1\n",
    "    return np.reshape(t, (-1, 1))"
   ]
  },
  {
   "cell_type": "code",
   "execution_count": 17,
   "metadata": {},
   "outputs": [],
   "source": [
    "def mean_center(mat):\n",
    "    meanPoint = mat.mean(axis = 0)\n",
    "    return (mat - meanPoint)\n",
    "\n",
    "def divide_by_sd(mat):\n",
    "    smat = mat ** 2\n",
    "    sums = smat.sum(axis = 0)\n",
    "    return (mat / np.sqrt(sums))\n",
    "\n",
    "def abline(slope, intercept):\n",
    "    \"\"\"Plot a line from slope and intercept\"\"\"\n",
    "    axes = plt.gca()\n",
    "    x_vals = np.array(axes.get_xlim())\n",
    "    y_vals = intercept + slope * x_vals\n",
    "    plt.plot(x_vals, y_vals, '--')"
   ]
  },
  {
   "cell_type": "code",
   "execution_count": 18,
   "metadata": {},
   "outputs": [],
   "source": [
    "def get_eigenvectors(cov_mat):\n",
    "    eig = np.linalg.eig(cov_mat)\n",
    "    return eig"
   ]
  },
  {
   "cell_type": "code",
   "execution_count": 19,
   "metadata": {},
   "outputs": [],
   "source": [
    "def get_test_vec_coeffs(tvec, vecs):\n",
    "    betas = np.transpose(vecs) @ tvec \n",
    "    return betas[0:-1,]"
   ]
  },
  {
   "cell_type": "code",
   "execution_count": 20,
   "metadata": {},
   "outputs": [],
   "source": [
    "def non_seg_index(mat, ploidy):\n",
    "    lost = np.where(mat.sum(axis=0) == 0)\n",
    "    fixed = np.where(mat.sum(axis=0) == (np.shape(mat)[0]*ploidy))\n",
    "    return(np.concatenate((lost,fixed), axis=None))"
   ]
  },
  {
   "cell_type": "code",
   "execution_count": 116,
   "metadata": {},
   "outputs": [],
   "source": [
    "def get_sigma_s(M, Tm):\n",
    "    H = np.zeros((M.shape[1], M.shape[1]))\n",
    "    np.fill_diagonal(H,np.var(M, axis=0))\n",
    "    sigma_s = np.transpose(Tm) @ M @ H / (np.shape(M)[0] - 1) \n",
    "    return sigma_s"
   ]
  },
  {
   "cell_type": "code",
   "execution_count": 117,
   "metadata": {},
   "outputs": [],
   "source": [
    "def get_strat_term(sigma_s, X, sTvec):\n",
    "    return (sigma_s @ np.transpose(X) @ sTvec) / (np.shape(X)[0] - 1)  "
   ]
  },
  {
   "cell_type": "code",
   "execution_count": 222,
   "metadata": {},
   "outputs": [],
   "source": [
    "## Parameters\n",
    "N_A=2000\n",
    "N_B=2000 \n",
    "N_C=2000\n",
    "N_D=2000\n",
    "split_time1=140e3 \n",
    "split_time2=70e3 \n",
    "sample_A=100\n",
    "sample_B=100\n",
    "sample_C=100\n",
    "sample_D=100\n",
    "seg_length=1e6 \n",
    "recomb_rate=5e-7 \n",
    "mut_rate=5e-8\n",
    "\n",
    "ploidy=2"
   ]
  },
  {
   "cell_type": "markdown",
   "metadata": {},
   "source": [
    "Santiy Checks: "
   ]
  },
  {
   "cell_type": "code",
   "execution_count": 236,
   "metadata": {},
   "outputs": [
    {
     "name": "stdout",
     "output_type": "stream",
     "text": [
      "[-0.10086861 -0.10367023 -0.10018958 -0.10138604 -0.10368186 -0.10009418\n",
      " -0.10140946 -0.0983738  -0.09973164 -0.09830649 -0.09911256 -0.10016725\n",
      " -0.10042738 -0.10075448 -0.10257902 -0.09692037 -0.09973293  0.10292435\n",
      "  0.10138858  0.0995589   0.10139448  0.09854491  0.09788216  0.09617316\n",
      "  0.09995255  0.10154069  0.1014753   0.10019915  0.09752971  0.09820172\n",
      "  0.10020206  0.09939719  0.0988905   0.10113664  0.09794167  0.10143222\n",
      "  0.1008382   0.10083949  0.09939022  0.09663959  0.09824411  0.09967257\n",
      "  0.10153486  0.09662534  0.0999024   0.10241851  0.1017403   0.1010504\n",
      "  0.10120691  0.10180741  0.09806897  0.09866987  0.10000685  0.09896798\n",
      "  0.09929598  0.09860573  0.101931    0.10029788  0.09944047  0.10246684\n",
      "  0.10036266  0.0998069   0.09697917  0.10121408  0.1025597   0.1015616\n",
      "  0.10128367 -0.10043171 -0.10031216 -0.10341152 -0.10028835 -0.09809387\n",
      " -0.10029641 -0.09896802 -0.10234373 -0.10039145 -0.09783423 -0.10066071\n",
      " -0.09971181 -0.10429095 -0.09950313 -0.09725211 -0.09842634 -0.09919775\n",
      " -0.09895622 -0.09698533 -0.10098007 -0.10321595 -0.10187511 -0.0995241\n",
      " -0.09748041 -0.09774354 -0.09838717 -0.0975008  -0.09563879 -0.1002472\n",
      " -0.10157858 -0.10022985 -0.10032855 -0.09970384]\n"
     ]
    },
    {
     "data": {
      "text/plain": [
       "array([-0.10086861, -0.10367023, -0.10018958, -0.10138604, -0.10368186,\n",
       "       -0.10009418, -0.10140946, -0.0983738 , -0.09973164, -0.09830649,\n",
       "       -0.09911256, -0.10016725, -0.10042738, -0.10075448, -0.10257902,\n",
       "       -0.09692037, -0.09973293,  0.10292435,  0.10138858,  0.0995589 ,\n",
       "        0.10139448,  0.09854491,  0.09788216,  0.09617316,  0.09995255,\n",
       "        0.10154069,  0.1014753 ,  0.10019915,  0.09752971,  0.09820172,\n",
       "        0.10020206,  0.09939719,  0.0988905 ,  0.10113664,  0.09794167,\n",
       "        0.10143222,  0.1008382 ,  0.10083949,  0.09939022,  0.09663959,\n",
       "        0.09824411,  0.09967257,  0.10153486,  0.09662534,  0.0999024 ,\n",
       "        0.10241851,  0.1017403 ,  0.1010504 ,  0.10120691,  0.10180741,\n",
       "        0.09806897,  0.09866987,  0.10000685,  0.09896798,  0.09929598,\n",
       "        0.09860573,  0.101931  ,  0.10029788,  0.09944047,  0.10246684,\n",
       "        0.10036266,  0.0998069 ,  0.09697917,  0.10121408,  0.1025597 ,\n",
       "        0.1015616 ,  0.10128367, -0.10043171, -0.10031216, -0.10341152,\n",
       "       -0.10028835, -0.09809387, -0.10029641, -0.09896802, -0.10234373,\n",
       "       -0.10039145, -0.09783423, -0.10066071, -0.09971181, -0.10429095,\n",
       "       -0.09950313, -0.09725211, -0.09842634, -0.09919775, -0.09895622,\n",
       "       -0.09698533, -0.10098007, -0.10321595, -0.10187511, -0.0995241 ,\n",
       "       -0.09748041, -0.09774354, -0.09838717, -0.0975008 , -0.09563879,\n",
       "       -0.1002472 , -0.10157858, -0.10022985, -0.10032855, -0.09970384])"
      ]
     },
     "execution_count": 236,
     "metadata": {},
     "output_type": "execute_result"
    },
    {
     "data": {
      "image/png": "[encoded data removed]",
      "text/plain": [
       "<Figure size 432x288 with 1 Axes>"
      ]
     },
     "metadata": {
      "needs_background": "light"
     },
     "output_type": "display_data"
    }
   ],
   "source": [
    "ts = split(N_A, N_B, N_C, N_D, split_time1, split_time2, sample_A, sample_B, sample_C, sample_D, seg_length, recomb_rate, mut_rate)\n",
    "geno_mat = genotype_matrix(ts, sample_A,sample_B,sample_C,sample_D)\n",
    "\n",
    "A = np.transpose(make_diploids(geno_mat[0], ploidy))\n",
    "B = np.transpose(make_diploids(geno_mat[1], ploidy))\n",
    "C = np.transpose(make_diploids(geno_mat[2], ploidy))\n",
    "D = np.transpose(make_diploids(geno_mat[3], ploidy))\n",
    "\n",
    "# Make Test/Gwas Panel\n",
    "X = make_panel(A,C)\n",
    "M = make_panel(B,D)\n",
    "\n",
    "# Remove non-segregating sites\n",
    "trm = np.concatenate((non_seg_index(X, ploidy), non_seg_index(M, ploidy)), axis=None)\n",
    "X = np.delete(X,trm, axis=1)\n",
    "M = np.delete(M,trm, axis=1)\n",
    "\n",
    "# Remove Duplicates\n",
    "new_array = [tuple(row) for row in X]\n",
    "X = np.unique(new_array, axis=0)\n",
    "new_array = [tuple(row) for row in M]\n",
    "M = np.unique(new_array, axis=0)\n",
    "\n",
    "# Make Test Vector\n",
    "Tvec = make_test_vec(X.shape[0])\n",
    "Tvec = np.random.rand(50)\n",
    "\n",
    "# Mean Center\n",
    "X = mean_center(X)\n",
    "M = mean_center(M)\n",
    "Tvec = mean_center(Tvec)\n",
    "\n",
    "\n",
    "# Get Covariance matric \n",
    "test_cov = X @ np.transpose(X) /(np.shape(X)[1] - 1)\n",
    "\n",
    "# Standarize T\n",
    "sTvec = divide_by_sd(Tvec)\n",
    "\n",
    "# Eigen Decomposition\n",
    "vals, vecs = get_eigenvectors(test_cov)\n",
    "\n",
    "# Eigenvalue Tvec \n",
    "Tvec = mean_center(vecs[:,0])\n",
    "sTvec = divide_by_sd(Tvec)\n",
    "\n",
    "\n",
    "# Get Test Vector Coefficients\n",
    "betas = get_test_vec_coeffs(sTvec, vecs)\n",
    "\n",
    "# Calculate Tm\n",
    "out = np.empty((betas.shape[0], test_cov.shape[1]))\n",
    "for i in range(0,betas.shape[0]):\n",
    "    out[i,:] = betas[i] * ((test_cov @ vecs[:,i]) / vals[i])\n",
    "Tm = out.sum(axis=0)\n",
    "\n",
    "# Calculate Tm a different way \n",
    "Tm = test_cov @ vecs[:,0:-1] @ np.diag(np.ones((np.shape(vals)[0]-1))/vals[0:-1]) @ np.transpose(vecs[:,0:-1]) @ sTvec\n",
    "\n",
    "plt.scatter(sTvec, Tm)\n",
    "abline(1, 0)\n",
    "plt.xlabel(\"sTvec\")\n",
    "plt.ylabel(\"Tm\")\n",
    "\n",
    "print(Tm)\n",
    "sTvec"
   ]
  },
  {
   "cell_type": "code",
   "execution_count": 207,
   "metadata": {},
   "outputs": [
    {
     "name": "stdout",
     "output_type": "stream",
     "text": [
      "[1] 45\n",
      "attr(,\"method\")\n",
      "[1] \"tolNorm2\"\n",
      "attr(,\"useGrad\")\n",
      "[1] FALSE\n",
      "attr(,\"tol\")\n",
      "[1] 1.796341e-13\n",
      " [1]  2.142069e+01  8.218179e-01  7.102892e-01  5.469880e-01  4.680931e-01\n",
      " [6]  4.213847e-01  3.285226e-01  2.879624e-01  2.684216e-01  2.595736e-01\n",
      "[11]  2.244269e-01  2.037583e-01  1.857775e-01  1.709674e-01  1.674583e-01\n",
      "[16]  1.607964e-01  1.287272e-01  1.240688e-01  1.233104e-01  1.191553e-01\n",
      "[21]  1.162183e-01  9.544498e-02  9.243558e-02  9.187012e-02  8.222247e-02\n",
      "[26]  7.282562e-02  7.011356e-02  5.906380e-02  5.418522e-02  5.184901e-02\n",
      "[31]  5.018306e-02  4.166543e-02  3.604903e-02  3.147471e-02  2.852902e-02\n",
      "[36]  2.444482e-02  2.175258e-02  2.036046e-02  1.882435e-02  1.697287e-02\n",
      "[41]  1.190133e-02  1.043426e-02  8.447706e-03  2.378426e-03  1.972410e-03\n",
      "[46]  6.753301e-16  9.918843e-17 -1.777097e-16 -2.260109e-16 -4.888400e-16\n"
     ]
    }
   ],
   "source": [
    "%%R -i X,sTvec,test_cov,M,A,B,C,D\n",
    "\n",
    "library(Matrix)\n",
    "\n",
    "set.seed(12)\n",
    "\n",
    "## get test covariance matrix and eigendecomposition\n",
    "test.cov <- X %*% t(X) / (ncol(X)-1)\n",
    "eig <- eigen(test.cov)\n",
    "vecs <- eig$vectors\n",
    "vals <- eig$values\n",
    "neigs <- length(vals)\n",
    "\n",
    "random_cont_test_vec <- function(n){\n",
    "  # Make the test vector random, drawn from a uniform distribution \n",
    "  tvec <- runif(n)\n",
    "  ctvec <- (tvec-mean(tvec))\n",
    "  std.tvec <- ctvec/sqrt(sum(ctvec^2))\n",
    "  return(std.tvec)  \n",
    "}\n",
    "std.tvec <- random_cont_test_vec(50)\n",
    "std.tvec <- sTvec\n",
    "\n",
    "# get betas\n",
    "betas <- t(vecs) %*% std.tvec\n",
    "betas <- betas[1:ncol(vecs)-1]\n",
    "\n",
    "# Calculate Tm\n",
    "out <- matrix(NA, ncol = 50, nrow = 49)\n",
    "for (i in 1:49){\n",
    "   out[i, ] = betas[i] * ((test.cov %*% vecs[,i]) / vals[i])\n",
    " }\n",
    "Tm = colSums(out)\n",
    "\n",
    "# Calculate Tm a different way \n",
    "Tm = test.cov %*% vecs[,1:49] %*% diag(1/vals[1:49]) %*% t(vecs[,1:49]) %*% std.tvec\n",
    "#plot(std.tvec,Tm)\n",
    "#abline(a=0,b=1,col='red',lty=2)\n",
    "\n",
    "print(rankMatrix(X))\n",
    "vals\n"
   ]
  },
  {
   "cell_type": "code",
   "execution_count": 205,
   "metadata": {},
   "outputs": [
    {
     "data": {
      "text/plain": [
       "array([ 2.14206931e+01+0.0000000e+00j,  8.21817880e-01+0.0000000e+00j,\n",
       "        7.10289184e-01+0.0000000e+00j,  5.46988014e-01+0.0000000e+00j,\n",
       "        4.68093145e-01+0.0000000e+00j,  4.21384715e-01+0.0000000e+00j,\n",
       "        3.28522645e-01+0.0000000e+00j,  2.87962373e-01+0.0000000e+00j,\n",
       "        2.68421608e-01+0.0000000e+00j,  2.59573555e-01+0.0000000e+00j,\n",
       "        2.24426888e-01+0.0000000e+00j,  2.03758277e-01+0.0000000e+00j,\n",
       "        1.85777503e-01+0.0000000e+00j,  1.70967432e-01+0.0000000e+00j,\n",
       "        1.67458347e-01+0.0000000e+00j,  1.60796404e-01+0.0000000e+00j,\n",
       "        1.28727168e-01+0.0000000e+00j,  1.24068795e-01+0.0000000e+00j,\n",
       "        1.23310446e-01+0.0000000e+00j,  1.19155323e-01+0.0000000e+00j,\n",
       "        1.16218257e-01+0.0000000e+00j,  9.54449778e-02+0.0000000e+00j,\n",
       "        9.24355837e-02+0.0000000e+00j,  9.18701208e-02+0.0000000e+00j,\n",
       "        8.22224720e-02+0.0000000e+00j,  7.28256192e-02+0.0000000e+00j,\n",
       "        7.01135577e-02+0.0000000e+00j,  5.90638002e-02+0.0000000e+00j,\n",
       "        5.41852163e-02+0.0000000e+00j,  5.18490140e-02+0.0000000e+00j,\n",
       "        5.01830594e-02+0.0000000e+00j,  4.16654288e-02+0.0000000e+00j,\n",
       "        3.60490311e-02+0.0000000e+00j,  3.14747147e-02+0.0000000e+00j,\n",
       "        2.85290158e-02+0.0000000e+00j,  2.44448244e-02+0.0000000e+00j,\n",
       "        2.17525768e-02+0.0000000e+00j,  2.03604560e-02+0.0000000e+00j,\n",
       "        1.88243476e-02+0.0000000e+00j,  1.69728684e-02+0.0000000e+00j,\n",
       "        1.19013334e-02+0.0000000e+00j,  1.04342625e-02+0.0000000e+00j,\n",
       "        8.44770606e-03+0.0000000e+00j,  2.37842616e-03+0.0000000e+00j,\n",
       "        1.97240971e-03+0.0000000e+00j,  2.37041811e-17+0.0000000e+00j,\n",
       "        8.55193049e-16+0.0000000e+00j,  4.16355913e-18+5.1699996e-18j,\n",
       "        4.16355913e-18-5.1699996e-18j, -1.70052781e-17+0.0000000e+00j])"
      ]
     },
     "execution_count": 205,
     "metadata": {},
     "output_type": "execute_result"
    },
    {
     "data": {
      "image/png": "[encoded data removed]",
      "text/plain": [
       "<Figure size 432x288 with 1 Axes>"
      ]
     },
     "metadata": {
      "needs_background": "light"
     },
     "output_type": "display_data"
    }
   ],
   "source": [
    "# The test Panel is B/D and GWAS Panel is A/C\n",
    "ts = split(N_A, N_B, N_C, N_D, split_time1, split_time2, sample_A, sample_B, sample_C, sample_D, seg_length, recomb_rate, mut_rate)\n",
    "geno_mat = genotype_matrix(ts, sample_A,sample_B,sample_C,sample_D)\n",
    "\n",
    "A = np.transpose(make_diploids(geno_mat[0], ploidy))\n",
    "B = np.transpose(make_diploids(geno_mat[1], ploidy))\n",
    "C = np.transpose(make_diploids(geno_mat[2], ploidy))\n",
    "D = np.transpose(make_diploids(geno_mat[3], ploidy))\n",
    "\n",
    "# Make Test/Gwas Panel\n",
    "X = make_panel(A,C)\n",
    "M = make_panel(B,D)\n",
    "\n",
    "# Remove non-segregating sites\n",
    "trm = np.concatenate((non_seg_index(X, ploidy), non_seg_index(M, ploidy)), axis=None)\n",
    "X = np.delete(X,trm, axis=1)\n",
    "M = np.delete(M,trm, axis=1)\n",
    "\n",
    "# Make Test Vector\n",
    "Tvec = make_test_vec(X.shape[0])\n",
    "#Tvec = np.random.rand(50)\n",
    "\n",
    "# Mean Center\n",
    "X = mean_center(X)\n",
    "M = mean_center(M)\n",
    "Tvec = mean_center(Tvec)\n",
    "\n",
    "# Get Covariance matric \n",
    "test_cov = X @ np.transpose(X) /(np.shape(X)[1] - 1)\n",
    "\n",
    "# Standarize T\n",
    "sTvec = divide_by_sd(Tvec)\n",
    "\n",
    "# Eigen Decomposition\n",
    "vals, vecs = get_eigenvectors(test_cov)\n",
    "\n",
    "# Calculate Tm\n",
    "K = M @ np.transpose(X) /(np.shape(X)[1] - 1) # check denominator \n",
    "Tm = K @ vecs[:,0:-1] @ np.diag(np.ones((np.shape(vals)[0]-1))/vals[0:-1]) @ np.transpose(vecs[:,0:-1]) @ sTvec\n",
    "\n",
    "plt.scatter(sTvec, Tm)\n",
    "abline(1, 0)\n",
    "plt.xlabel(\"sTvec\")\n",
    "plt.ylabel(\"Tm\")\n",
    "\n",
    "sigma_s = get_sigma_s(M, Tm)\n",
    "strat = get_strat_term(sigma_s, X, sTvec)\n"
   ]
  },
  {
   "cell_type": "code",
   "execution_count": 166,
   "metadata": {},
   "outputs": [
    {
     "data": {
      "text/plain": [
       "array([[-0.00388014-1.00806359e-16j],\n",
       "       [ 0.0264266 +1.47519032e-17j],\n",
       "       [-0.04702083-2.25692821e-18j],\n",
       "       [-0.00521748+1.00432252e-17j],\n",
       "       [-0.0463083 -4.66380710e-17j],\n",
       "       [-0.00484453-6.75280375e-17j],\n",
       "       [-0.02425774+4.73515494e-18j],\n",
       "       [-0.00532515+3.25512799e-18j],\n",
       "       [-0.00481678+7.29620502e-18j],\n",
       "       [ 0.05610349+8.77474780e-18j],\n",
       "       [ 0.02553187+1.49198951e-18j],\n",
       "       [-0.00637788-2.70616191e-17j],\n",
       "       [ 0.05415145-1.75625134e-17j],\n",
       "       [ 0.0264266 +1.47519032e-17j],\n",
       "       [-0.00632434-8.68673131e-17j],\n",
       "       [ 0.00386079+1.43221795e-17j],\n",
       "       [-0.00441417+1.89410655e-17j],\n",
       "       [-0.00599627+1.25871791e-16j],\n",
       "       [-0.00481678+7.29620502e-18j],\n",
       "       [-0.00328343-9.52418815e-18j],\n",
       "       [-0.00441417+1.18704755e-17j],\n",
       "       [ 0.02262331+4.52794153e-18j],\n",
       "       [-0.02980788+1.39293837e-17j],\n",
       "       [-0.05104849-5.65056710e-17j],\n",
       "       [-0.00443517+7.70936836e-18j],\n",
       "       [-0.00369484+8.15397434e-18j],\n",
       "       [-0.00848419-1.22205322e-17j],\n",
       "       [-0.00671865-6.07858414e-17j],\n",
       "       [ 0.03003453-6.61353098e-18j],\n",
       "       [ 0.02977608-2.21585129e-17j],\n",
       "       [-0.05734351+5.35466580e-17j],\n",
       "       [-0.0209277 -1.15105216e-16j],\n",
       "       [-0.00616567-1.19872102e-17j],\n",
       "       [ 0.02973468+1.11492362e-17j],\n",
       "       [ 0.02077436+2.49494362e-17j],\n",
       "       [-0.036892  -1.84832901e-17j],\n",
       "       [-0.02825328-4.97772840e-18j],\n",
       "       [ 0.00380885-1.17701884e-17j],\n",
       "       [ 0.0299735 +1.99761947e-17j],\n",
       "       [ 0.02008314+1.41537147e-17j],\n",
       "       [-0.02820346+1.21927047e-17j],\n",
       "       [-0.00891074+7.52255795e-18j],\n",
       "       [ 0.04233931+1.51914178e-17j],\n",
       "       [-0.0216502 +1.52010671e-16j],\n",
       "       [ 0.04078563-1.00541137e-17j],\n",
       "       [-0.03270898+1.53858567e-17j],\n",
       "       [ 0.03546709+6.84758397e-17j],\n",
       "       [-0.00067731-1.28818681e-17j],\n",
       "       [-0.01283543+1.05838594e-17j],\n",
       "       [ 0.03815419+4.20690249e-17j]])"
      ]
     },
     "execution_count": 166,
     "metadata": {},
     "output_type": "execute_result"
    },
    {
     "data": {
      "image/png": "[encoded data removed]",
      "text/plain": [
       "<Figure size 432x288 with 1 Axes>"
      ]
     },
     "metadata": {
      "needs_background": "light"
     },
     "output_type": "display_data"
    }
   ],
   "source": [
    "# The test Panel is B/D and GWAS Panel is A/C\n",
    "ts = split(N_A, N_B, N_C, N_D, split_time1, split_time2, sample_A, sample_B, sample_C, sample_D, seg_length, recomb_rate, mut_rate)\n",
    "geno_mat = genotype_matrix(ts, sample_A,sample_B,sample_C,sample_D)\n",
    "\n",
    "A = np.transpose(make_diploids(geno_mat[0], ploidy))\n",
    "B = np.transpose(make_diploids(geno_mat[1], ploidy))\n",
    "C = np.transpose(make_diploids(geno_mat[2], ploidy))\n",
    "D = np.transpose(make_diploids(geno_mat[3], ploidy))\n",
    "\n",
    "# Make Test/Gwas Panel\n",
    "X = make_panel(C,D)\n",
    "M = make_panel(A,B)\n",
    "\n",
    "# Remove non-segregating sites\n",
    "trm = np.concatenate((non_seg_index(X, ploidy), non_seg_index(M, ploidy)), axis=None)\n",
    "X = np.delete(X,trm, axis=1)\n",
    "M = np.delete(M,trm, axis=1)\n",
    "\n",
    "# Make Test Vector\n",
    "Tvec = make_test_vec(X.shape[0])\n",
    "#Tvec = np.random.rand(50)\n",
    "\n",
    "# Mean Center\n",
    "X = mean_center(X)\n",
    "M = mean_center(M)\n",
    "Tvec = mean_center(Tvec)\n",
    "\n",
    "# Get Covariance matric \n",
    "test_cov = X @ np.transpose(X) /(np.shape(X)[1] - 1)\n",
    "\n",
    "# Standarize T\n",
    "sTvec = divide_by_sd(Tvec)\n",
    "\n",
    "# Eigen Decomposition\n",
    "vals, vecs = get_eigenvectors(test_cov)\n",
    "\n",
    "# Calculate Tm\n",
    "K = M @ np.transpose(X) /(np.shape(X)[1] - 1)\n",
    "Tm = K @ vecs[:,0:-1] @ np.diag(np.ones((np.shape(vals)[0]-1))/vals[0:-1]) @ np.transpose(vecs[:,0:-1]) @ sTvec\n",
    "\n",
    "plt.scatter(sTvec, Tm)\n",
    "abline(1, 0)\n",
    "plt.xlabel(\"sTvec\")\n",
    "plt.ylabel(\"Tm\")\n",
    "\n",
    "sigma_s = get_sigma_s(M, Tm)\n",
    "strat = get_strat_term(sigma_s, X, sTvec)\n",
    "strat\n",
    "\n",
    "Tm"
   ]
  },
  {
   "cell_type": "code",
   "execution_count": 155,
   "metadata": {},
   "outputs": [],
   "source": [
    "def main(N_A, N_B, N_C, N_D, split_time1, split_time2, sample_A, sample_B, sample_C, sample_D, seg_length, recomb_rate, mut_rate, ploidy, config): \n",
    "    \n",
    "    # The test Panel is B/D and GWAS Panel is A/C\n",
    "    ts = split(N_A, N_B, N_C, N_D, split_time1, split_time2, sample_A, sample_B, sample_C, sample_D, seg_length, recomb_rate, mut_rate)\n",
    "    geno_mat = genotype_matrix(ts, sample_A,sample_B,sample_C,sample_D)\n",
    "\n",
    "    A = np.transpose(make_diploids(geno_mat[0], ploidy))\n",
    "    B = np.transpose(make_diploids(geno_mat[1], ploidy))\n",
    "    C = np.transpose(make_diploids(geno_mat[2], ploidy))\n",
    "    D = np.transpose(make_diploids(geno_mat[3], ploidy))\n",
    "\n",
    "    # Make Test/Gwas Panel\n",
    "    if config == True:\n",
    "        X = make_panel(C,D)\n",
    "        M = make_panel(A,B)\n",
    "    elif config == False:  \n",
    "        X = make_panel(B,D)\n",
    "        M = make_panel(A,C)\n",
    "        \n",
    "    # Remove non-segregating sites\n",
    "    trm = np.concatenate((non_seg_index(X, ploidy), non_seg_index(M, ploidy)), axis=None)\n",
    "    X = np.delete(X,trm, axis=1)\n",
    "    M = np.delete(M,trm, axis=1)\n",
    "\n",
    "    # Make Test Vector\n",
    "    Tvec = make_test_vec(X.shape[0])\n",
    "\n",
    "    # Mean Center\n",
    "    X = mean_center(X)\n",
    "    M = mean_center(M)\n",
    "    Tvec = mean_center(Tvec)\n",
    "\n",
    "    # Get Covariance matric \n",
    "    test_cov = X @ np.transpose(X) /(np.shape(X)[1] - 1)\n",
    "\n",
    "    # Standarize T\n",
    "    sTvec = divide_by_sd(Tvec)\n",
    "\n",
    "    # Eigen Decomposition\n",
    "    vals, vecs = get_eigenvectors(test_cov)\n",
    "\n",
    "    # Calculate Tm\n",
    "    K = M @ np.transpose(X) /(np.shape(X)[1] - 1)\n",
    "    Tm = K @ vecs[:,0:-1] @ np.diag(np.ones((np.shape(vals)[0]-1))/vals[0:-1]) @ np.transpose(vecs[:,0:-1]) @ sTvec\n",
    "\n",
    "    sigma_s = get_sigma_s(M, Tm)\n",
    "    strat = get_strat_term(sigma_s, X, sTvec)\n",
    "    return strat[0][0]"
   ]
  },
  {
   "cell_type": "code",
   "execution_count": 158,
   "metadata": {},
   "outputs": [
    {
     "name": "stdout",
     "output_type": "stream",
     "text": [
      "[51.926721957133765, 42.11671998697976, (47.38423267806567-5.424719312221953e-13j), 36.292156012703394, (33.626290902487355-6.2371309800538e-16j), (51.8609319184704-1.3259117574513904e-13j), 55.78639796020625, 35.78629081187798, 36.62870950432294, 39.597651302836105, 25.108635301389437, 23.330563851502564, (40.73330654944786+1.0870798902711359e-14j), 21.362699331909017, 26.269820089213212, (44.77419620538007+1.1124291250550928e-13j), 23.65629482645597, 20.7679674257765, 43.161958879547996, 27.59416853516209, (46.726297002784904-1.0143357625933318e-14j), 54.0275954527, (30.234543716114736+2.5760084661496415e-13j), 30.927564959102973, 31.094097918387753]\n"
     ]
    },
    {
     "data": {
      "text/plain": [
       "(array([4., 3., 3., 1., 3., 2., 3., 2., 2., 2.]),\n",
       " array([20.76796743+0.j, 24.26981048+0.j, 27.77165353+0.j, 31.27349659+0.j,\n",
       "        34.77533964+0.j, 38.27718269+0.j, 41.77902575+0.j, 45.2808688 +0.j,\n",
       "        48.78271185+0.j, 52.28455491+0.j, 55.78639796+0.j]),\n",
       " <a list of 10 Patch objects>)"
      ]
     },
     "execution_count": 158,
     "metadata": {},
     "output_type": "execute_result"
    },
    {
     "data": {
      "image/png": "[encoded data removed]",
      "text/plain": [
       "<Figure size 432x288 with 1 Axes>"
      ]
     },
     "metadata": {
      "needs_background": "light"
     },
     "output_type": "display_data"
    }
   ],
   "source": [
    "out = []\n",
    "for i in range(0, 25):\n",
    "    out.append(main(N_A, N_B, N_C, N_D, split_time1, split_time2, sample_A, sample_B, sample_C, sample_D, seg_length, recomb_rate, mut_rate, ploidy, False))\n",
    "print(out)\n",
    "plt.hist(out)"
   ]
  },
  {
   "cell_type": "code",
   "execution_count": 160,
   "metadata": {},
   "outputs": [
    {
     "name": "stdout",
     "output_type": "stream",
     "text": [
      "[0.1932050815285173, (0.4928681840385287+3.27240647220686e-16j), 0.04467654481617398, (0.4658990817898396+5.473323402744058e-18j), (0.16922585935349507+1.4492479835042593e-18j), 1.52504030658812, (0.21818875387037664+1.5250147377511836e-15j), (0.6620345052801004+4.1866796368330504e-17j), 0.10660877201343759, 0.0394356620190621, 0.5122237397721153, (0.4480516010599798+6.765365666663243e-14j), (0.5387753237172282-1.3395661426373748e-16j), -0.023818041382960824, 1.9649816158570685, 0.4991153834825803, -0.32462215672463085, 0.011670070684460642, 0.0563100808506059, -0.10456747251124274, (0.04803753046435157-1.9781689705941062e-17j), 0.01690995374486577, 0.04020382484607452, 0.24817914204673092, 0.18493664167410273]\n"
     ]
    },
    {
     "data": {
      "text/plain": [
       "(array([2., 9., 5., 6., 1., 0., 0., 0., 1., 1.]),\n",
       " array([-0.32462216+0.j, -0.09566178+0.j,  0.1332986 +0.j,  0.36225898+0.j,\n",
       "         0.59121935+0.j,  0.82017973+0.j,  1.04914011+0.j,  1.27810048+0.j,\n",
       "         1.50706086+0.j,  1.73602124+0.j,  1.96498162+0.j]),\n",
       " <a list of 10 Patch objects>)"
      ]
     },
     "execution_count": 160,
     "metadata": {},
     "output_type": "execute_result"
    },
    {
     "data": {
      "image/png": "[encoded data removed]",
      "text/plain": [
       "<Figure size 432x288 with 1 Axes>"
      ]
     },
     "metadata": {
      "needs_background": "light"
     },
     "output_type": "display_data"
    }
   ],
   "source": [
    "out = []\n",
    "for i in range(0, 25):\n",
    "    out.append(main(N_A, N_B, N_C, N_D, split_time1, split_time2, sample_A, sample_B, sample_C, sample_D, seg_length, recomb_rate, mut_rate, ploidy, True))\n",
    "    \n",
    "print(out)\n",
    "plt.hist(out)"
   ]
  },
  {
   "cell_type": "markdown",
   "metadata": {},
   "source": [
    "Run GWAS"
   ]
  },
  {
   "cell_type": "code",
   "execution_count": 68,
   "metadata": {},
   "outputs": [
    {
     "data": {
      "text/plain": [
       "(array([ 4.,  3.,  6., 17.,  7.,  5.,  4.,  1.,  2.,  1.]),\n",
       " array([-90.94754353, -68.58760908, -46.22767464, -23.8677402 ,\n",
       "         -1.50780575,  20.85212869,  43.21206314,  65.57199758,\n",
       "         87.93193202, 110.29186647, 132.65180091]),\n",
       " <a list of 10 Patch objects>)"
      ]
     },
     "execution_count": 68,
     "metadata": {},
     "output_type": "execute_result"
    },
    {
     "data": {
      "image/png": "[encoded data removed]",
      "text/plain": [
       "<Figure size 432x288 with 1 Axes>"
      ]
     },
     "metadata": {
      "needs_background": "light"
     },
     "output_type": "display_data"
    }
   ],
   "source": [
    "m = 100\n",
    "h2 = 0.8\n",
    "L = M.shape[1]\n",
    "true_effect = get_effect_sizes(L, h2,m)\n",
    "\n",
    "phenotypes_gwas = get_phenotypes(true_effect, M, h2, num_loci)\n",
    "beta_hat = GWAS(M, phenotypes_gwas)\n",
    "pgs_test = PGS(M, beta_hat)\n",
    "\n",
    "plt.hist(pgs_test)"
   ]
  },
  {
   "cell_type": "code",
   "execution_count": 72,
   "metadata": {},
   "outputs": [],
   "source": [
    "np.savetxt(\"../data/4PopSplit/testCD_X.txt\", X)\n",
    "np.savetxt(\"../data/4PopSplit/testCD_M.txt\", M)\n",
    "np.savetxt(\"../data/4PopSplit/testCD_T.txt\", sTvec)"
   ]
  },
  {
   "cell_type": "code",
   "execution_count": 75,
   "metadata": {},
   "outputs": [],
   "source": [
    "np.savetxt(\"../data/4PopSplit/testBD_X.txt\", X)\n",
    "np.savetxt(\"../data/4PopSplit/testBD_M.txt\", M)\n",
    "np.savetxt(\"../data/4PopSplit/testBD_T.txt\", sTvec)"
   ]
  },
  {
   "cell_type": "code",
   "execution_count": null,
   "metadata": {},
   "outputs": [],
   "source": []
  }
 ],
 "metadata": {
  "kernelspec": {
   "display_name": "Python 3",
   "language": "python",
   "name": "python3"
  },
  "language_info": {
   "codemirror_mode": {
    "name": "ipython",
    "version": 3
   },
   "file_extension": ".py",
   "mimetype": "text/x-python",
   "name": "python",
   "nbconvert_exporter": "python",
   "pygments_lexer": "ipython3",
   "version": "3.7.3"
  }
 },
 "nbformat": 4,
 "nbformat_minor": 2
}
