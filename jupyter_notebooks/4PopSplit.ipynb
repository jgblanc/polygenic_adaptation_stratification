{
 "cells": [
  {
   "cell_type": "markdown",
   "metadata": {},
   "source": [
    "## 4PopSplit  "
   ]
  },
  {
   "cell_type": "code",
   "execution_count": 1,
   "metadata": {},
   "outputs": [],
   "source": [
    "import stdpopsim\n",
    "import numpy as np\n",
    "from matplotlib import pyplot as plt\n",
    "import statistics\n",
    "import math\n",
    "import tskit\n",
    "from collections import Counter\n",
    "import csv\n",
    "from sklearn.linear_model import LinearRegression\n",
    "import msprime"
   ]
  },
  {
   "cell_type": "code",
   "execution_count": 14,
   "metadata": {},
   "outputs": [],
   "source": [
    "def split(N_A, N_B, N_C, N_D, split_time1, split_time2):\n",
    "\n",
    "    # Times are provided in years, so we convert into generations.\n",
    "    generation_time = 25\n",
    "    T_S1 = split_time1 / generation_time\n",
    "    T_S2 = split_time2 / generation_time\n",
    "\n",
    "\n",
    "    # Population IDs correspond to their indexes in the population\n",
    "    # configuration array. Therefore, we have 0=A, 1=B, 2=C, 3=D initially.\n",
    "    population_configurations = [\n",
    "        msprime.PopulationConfiguration(\n",
    "            sample_size=500, initial_size=N_A),\n",
    "        msprime.PopulationConfiguration(\n",
    "            sample_size=500, initial_size=N_B), \n",
    "        msprime.PopulationConfiguration(\n",
    "            sample_size=500, initial_size=N_C),\n",
    "        msprime.PopulationConfiguration(\n",
    "            sample_size=500, initial_size=N_D)\n",
    "    ]\n",
    "\n",
    "    demographic_events = [\n",
    "        msprime.MassMigration(\n",
    "            time=T_S2, source=3, destination=2, proportion=1.0),\n",
    "        msprime.MassMigration(\n",
    "            time=T_S2, source=1, destination=0, proportion=1.0),\n",
    "        msprime.MassMigration(\n",
    "            time=T_S1, source=2, destination = 0, proportion=1.0)\n",
    "    ]\n",
    "    # Use the demography debugger to print out the demographic history\n",
    "    # that we have just described.\n",
    "    dd = msprime.DemographyDebugger(\n",
    "        population_configurations=population_configurations,\n",
    "        demographic_events=demographic_events)\n",
    "    #dd.print_history()\n",
    "    \n",
    "    ts = msprime.simulate(population_configurations=population_configurations,\n",
    "                         demographic_events=demographic_events, length=1e6, recombination_rate=1e-8,\n",
    "                         mutation_rate=1e-8)\n",
    "    return ts"
   ]
  },
  {
   "cell_type": "code",
   "execution_count": 8,
   "metadata": {},
   "outputs": [],
   "source": [
    "def genotype_matrix(ts):\n",
    "    G = ts.genotype_matrix()\n",
    "    A = G[:,0:500]\n",
    "    B = G[:,500:1000]\n",
    "    C = G[:,1000:1500]\n",
    "    D = G[:,1500:2000]\n",
    "    return A, B, C, D"
   ]
  },
  {
   "cell_type": "code",
   "execution_count": 20,
   "metadata": {},
   "outputs": [],
   "source": [
    "def make_panel(pop1, pop2):\n",
    "    return np.concatenate((pop1,pop2), axis=0)"
   ]
  },
  {
   "cell_type": "code",
   "execution_count": 28,
   "metadata": {},
   "outputs": [],
   "source": [
    "def make_test_vec():\n",
    "    t = np.zeros(1000)\n",
    "    t[0:500] = 1\n",
    "    return t"
   ]
  },
  {
   "cell_type": "code",
   "execution_count": 47,
   "metadata": {},
   "outputs": [],
   "source": [
    "def make_TXM(T,X,M):\n",
    "    tmp = np.dot(T, X)\n",
    "    return np.dot(tmp,np.transpose(M))"
   ]
  },
  {
   "cell_type": "code",
   "execution_count": 48,
   "metadata": {},
   "outputs": [],
   "source": [
    "def make_MXT(T,X,M):\n",
    "    tmp = np.dot(M,np.transpose(X))\n",
    "    return np.dot(tmp,np.transpose(T))"
   ]
  },
  {
   "cell_type": "code",
   "execution_count": 54,
   "metadata": {},
   "outputs": [
    {
     "data": {
      "text/plain": [
       "653913305051.0"
      ]
     },
     "execution_count": 54,
     "metadata": {},
     "output_type": "execute_result"
    }
   ],
   "source": [
    "ts = split(2000,2000,2000,2000,140e3,70e3)\n",
    "geno_mat = genotype_matrix(ts)\n",
    "A = np.transpose(geno_mat[0])\n",
    "B = np.transpose(geno_mat[1])\n",
    "C = np.transpose(geno_mat[2])\n",
    "D = np.transpose(geno_mat[3])\n",
    "X = make_panel(B,D)\n",
    "M = make_panel(A,C)\n",
    "T = make_test_vec()\n",
    "\n",
    "txm = make_TXM(T,X,M)\n",
    "mxt = make_MXT(T,X,M)\n",
    "\n",
    "final = np.dot(txm,mxt)\n",
    "final "
   ]
  },
  {
   "cell_type": "code",
   "execution_count": 57,
   "metadata": {},
   "outputs": [],
   "source": [
    "#np.savetxt(\"../data/4PopSplit/testBD_X.txt\", X)\n",
    "np.savetxt(\"../data/4PopSplit/testBD_M.txt\", M)\n",
    "np.savetxt(\"../data/4PopSplit/testBD_T.txt\", T)"
   ]
  },
  {
   "cell_type": "code",
   "execution_count": 58,
   "metadata": {},
   "outputs": [
    {
     "data": {
      "text/plain": [
       "75019944726.0"
      ]
     },
     "execution_count": 58,
     "metadata": {},
     "output_type": "execute_result"
    }
   ],
   "source": [
    "ts = split(2000,2000,2000,2000,140e3,70e3)\n",
    "geno_mat = genotype_matrix(ts)\n",
    "A = np.transpose(geno_mat[0])\n",
    "B = np.transpose(geno_mat[1])\n",
    "C = np.transpose(geno_mat[2])\n",
    "D = np.transpose(geno_mat[3])\n",
    "X = make_panel(C,D)\n",
    "M = make_panel(A,B)\n",
    "T = make_test_vec()\n",
    "\n",
    "txm = make_TXM(T,X,M)\n",
    "mxt = make_MXT(T,X,M)\n",
    "\n",
    "final = np.dot(txm,mxt)\n",
    "final "
   ]
  },
  {
   "cell_type": "code",
   "execution_count": 59,
   "metadata": {},
   "outputs": [],
   "source": [
    "np.savetxt(\"../data/4PopSplit/testCD_X.txt\", X)\n",
    "np.savetxt(\"../data/4PopSplit/testCD_M.txt\", M)\n",
    "np.savetxt(\"../data/4PopSplit/testCD_T.txt\", T)"
   ]
  }
 ],
 "metadata": {
  "kernelspec": {
   "display_name": "Python 3",
   "language": "python",
   "name": "python3"
  },
  "language_info": {
   "codemirror_mode": {
    "name": "ipython",
    "version": 3
   },
   "file_extension": ".py",
   "mimetype": "text/x-python",
   "name": "python",
   "nbconvert_exporter": "python",
   "pygments_lexer": "ipython3",
   "version": "3.7.3"
  }
 },
 "nbformat": 4,
 "nbformat_minor": 2
}
