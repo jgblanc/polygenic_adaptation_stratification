{
 "cells": [
  {
   "cell_type": "code",
   "execution_count": 45,
   "id": "analyzed-mambo",
   "metadata": {},
   "outputs": [],
   "source": [
    "from pandas_plink import read_plink\n",
    "import pandas as pd\n",
    "import dask\n",
    "import dask_ml.preprocessing\n",
    "import numpy as np"
   ]
  },
  {
   "cell_type": "code",
   "execution_count": 2,
   "id": "cellular-dream",
   "metadata": {},
   "outputs": [
    {
     "name": "stderr",
     "output_type": "stream",
     "text": [
      "Mapping files: 100%|██████████| 3/3 [00:00<00:00, 16.08it/s]\n",
      "Mapping files: 100%|██████████| 3/3 [00:00<00:00, 18.19it/s]\n"
     ]
    }
   ],
   "source": [
    "(bim_test, fam_test, G_test) = read_plink('/Users/jenniferblanc/polygenic_adaptation_stratification/output/Simulate_Genotypes/4PopSplit/S2/C1/genos-test_common')\n",
    "(bim_gwas, fam_gwas, G_gwas) = read_plink('/Users/jenniferblanc/polygenic_adaptation_stratification/output/Simulate_Genotypes/4PopSplit/S2/C1/genos-gwas_common')"
   ]
  },
  {
   "cell_type": "code",
   "execution_count": 15,
   "id": "raised-resident",
   "metadata": {},
   "outputs": [],
   "source": [
    "# Mean Center Test\n",
    "X = G_test.transpose()\n",
    "scaler = dask_ml.preprocessing.StandardScaler(with_mean=True, with_std=False).fit(X)\n",
    "X = scaler.transform(X)\n",
    "\n",
    "# Mean Center GWAS\n",
    "M = G_gwas.transpose()\n",
    "scaler = dask_ml.preprocessing.StandardScaler(with_mean=True, with_std=False).fit(M)\n",
    "M = scaler.transform(M)"
   ]
  },
  {
   "cell_type": "code",
   "execution_count": 76,
   "id": "configured-evolution",
   "metadata": {},
   "outputs": [
    {
     "data": {
      "text/plain": [
       "array([ 0.03513073,  0.03773863,  0.03589286,  0.03533624,  0.03744552,\n",
       "        0.03839445,  0.03611073,  0.03655073,  0.03996375,  0.03783773,\n",
       "        0.03475367,  0.03453777,  0.03758225,  0.03877148,  0.03793588,\n",
       "        0.03717874,  0.03626473,  0.03768691,  0.03239006,  0.03749793,\n",
       "        0.03672685,  0.03610297,  0.03632429,  0.03494998,  0.03457412,\n",
       "        0.03505528,  0.03631708,  0.03638364,  0.03681619,  0.03919853,\n",
       "        0.03422497,  0.03937425,  0.03769775,  0.03817215,  0.03507308,\n",
       "        0.03716594,  0.03679215,  0.03188548,  0.03893227,  0.03485063,\n",
       "        0.04010808,  0.03470858,  0.03915487,  0.03810469,  0.03791189,\n",
       "        0.03841158,  0.03676688,  0.03813301,  0.03362494,  0.03685314,\n",
       "        0.03698892,  0.03385764,  0.03644768,  0.03687732,  0.03567271,\n",
       "        0.03417764,  0.03862835,  0.03710791,  0.03900885,  0.03757671,\n",
       "        0.03388152,  0.03809821,  0.03779491,  0.03720781,  0.03646914,\n",
       "        0.03783409,  0.03685361,  0.03756868,  0.03672737,  0.03581274,\n",
       "        0.0354683 ,  0.03425621,  0.04022621,  0.0385308 ,  0.03583005,\n",
       "        0.03661139,  0.03681179,  0.03678344,  0.0348436 ,  0.03815183,\n",
       "        0.03866033,  0.03539812,  0.03287004,  0.03887003,  0.03331827,\n",
       "        0.03755277,  0.03475302,  0.03692104,  0.03761533,  0.03699005,\n",
       "        0.03696811,  0.03595938,  0.03452005,  0.03703088,  0.03457338,\n",
       "        0.0379241 ,  0.03857965,  0.03736637,  0.03564368,  0.03786325,\n",
       "       -0.03621145, -0.03592009, -0.03747335, -0.03784887, -0.03732165,\n",
       "       -0.0386071 , -0.03481064, -0.03671458, -0.03577419, -0.03902313,\n",
       "       -0.03381146, -0.03827776, -0.03613515, -0.03860619, -0.03454737,\n",
       "       -0.03590492, -0.0375675 , -0.03782387, -0.03682252, -0.03852302,\n",
       "       -0.03635081, -0.03704997, -0.03713699, -0.03616833, -0.03896817,\n",
       "       -0.03527812, -0.0359964 , -0.0328867 , -0.03507775, -0.03699499,\n",
       "       -0.03648648, -0.03661952, -0.03549382, -0.03508932, -0.03854511,\n",
       "       -0.037107  , -0.03744764, -0.03851007, -0.03724409, -0.03703019,\n",
       "       -0.03725677, -0.03837702, -0.03447856, -0.03652361, -0.03385202,\n",
       "       -0.03541133, -0.03886946, -0.03582147, -0.0356265 , -0.03695231,\n",
       "       -0.03818364, -0.0363182 , -0.0349783 , -0.034564  , -0.03641992,\n",
       "       -0.03878191, -0.03806823, -0.03529553, -0.03793374, -0.03665382,\n",
       "       -0.03427762, -0.03679212, -0.03536122, -0.03643582, -0.03613459,\n",
       "       -0.04230392, -0.03493609, -0.03646029, -0.0360066 , -0.03831256,\n",
       "       -0.03872439, -0.03616261, -0.03583713, -0.03576181, -0.03592727,\n",
       "       -0.03784669, -0.03704824, -0.0374178 , -0.03561072, -0.03587818,\n",
       "       -0.03639585, -0.03526105, -0.03536064, -0.0360194 , -0.03581679,\n",
       "       -0.03729583, -0.0371115 , -0.03941329, -0.03671401, -0.03775612,\n",
       "       -0.03396631, -0.03468631, -0.03734556, -0.04025342, -0.0354709 ,\n",
       "       -0.0359967 , -0.03627359, -0.03816595, -0.03670583, -0.03806201])"
      ]
     },
     "execution_count": 76,
     "metadata": {},
     "output_type": "execute_result"
    }
   ],
   "source": [
    "# Calculate Test covariance matrix \n",
    "test_cov = dask.array.cov(X)\n",
    "\n",
    "# SVD of covariance matrix \n",
    "u, s, v = dask.array.linalg.svd(test_cov)\n",
    "n = s.shape[0]\n",
    "\n",
    "# Make test vector\n",
    "mat = np.zeros(n)\n",
    "mat[0:int(n/2)] = 1\n",
    "mat = mat - mat.mean(axis = 0)\n",
    "smat = mat ** 2\n",
    "sums = smat.sum(axis = 0)\n",
    "stvec = mat / np.sqrt(sums)\n",
    "\n",
    "# Make pseudoinverse \n",
    "vals = dask.array.diag(1/s[0:(n-1)])\n",
    "pinv = np.dot(u[0:n,0:(n-1)], vals).dot(u[0:n,0:(n-1)].transpose()).compute()\n",
    "\n",
    "# Calculate Tm\n",
    "K = np.dot(M, X.transpose()) / (M.shape[1] - 1)\n",
    "Tm = np.dot(K,pinv).dot(stvec)\n",
    "Tm.compute()"
   ]
  }
 ],
 "metadata": {
  "kernelspec": {
   "display_name": "Python 3",
   "language": "python",
   "name": "python3"
  },
  "language_info": {
   "codemirror_mode": {
    "name": "ipython",
    "version": 3
   },
   "file_extension": ".py",
   "mimetype": "text/x-python",
   "name": "python",
   "nbconvert_exporter": "python",
   "pygments_lexer": "ipython3",
   "version": "3.6.7"
  }
 },
 "nbformat": 4,
 "nbformat_minor": 5
}
