{
 "cells": [
  {
   "cell_type": "code",
   "execution_count": 2,
   "id": "analyzed-mambo",
   "metadata": {},
   "outputs": [],
   "source": [
    "from pandas_plink import read_plink\n",
    "import pandas as pd\n",
    "import dask\n",
    "import dask_ml.preprocessing\n",
    "import numpy as np"
   ]
  },
  {
   "cell_type": "code",
   "execution_count": 3,
   "id": "cellular-dream",
   "metadata": {},
   "outputs": [
    {
     "name": "stderr",
     "output_type": "stream",
     "text": [
      "Mapping files: 100%|██████████| 3/3 [00:00<00:00, 15.55it/s]\n",
      "Mapping files: 100%|██████████| 3/3 [00:00<00:00, 17.96it/s]\n"
     ]
    }
   ],
   "source": [
    "(bim_test, fam_test, G_test) = read_plink('/Users/jenniferblanc/polygenic_adaptation_stratification/output/Simulate_Genotypes/4PopSplit/S2/C1/genos-test_common')\n",
    "(bim_gwas, fam_gwas, G_gwas) = read_plink('/Users/jenniferblanc/polygenic_adaptation_stratification/output/Simulate_Genotypes/4PopSplit/S2/C1/genos-gwas_common')"
   ]
  },
  {
   "cell_type": "code",
   "execution_count": 4,
   "id": "raised-resident",
   "metadata": {},
   "outputs": [],
   "source": [
    "# Mean Center Test\n",
    "X = G_test.transpose()\n",
    "scaler = dask_ml.preprocessing.StandardScaler(with_mean=True, with_std=False).fit(X)\n",
    "X = scaler.transform(X)\n",
    "\n",
    "# Mean Center GWAS\n",
    "M = G_gwas.transpose()\n",
    "scaler = dask_ml.preprocessing.StandardScaler(with_mean=True, with_std=False).fit(M)\n",
    "M = scaler.transform(M)"
   ]
  },
  {
   "cell_type": "code",
   "execution_count": 7,
   "id": "configured-evolution",
   "metadata": {},
   "outputs": [
    {
     "data": {
      "text/plain": [
       "numpy.ndarray"
      ]
     },
     "execution_count": 7,
     "metadata": {},
     "output_type": "execute_result"
    }
   ],
   "source": [
    "# Calculate Test covariance matrix \n",
    "test_cov = dask.array.cov(X)\n",
    "\n",
    "# SVD of covariance matrix \n",
    "u, s, v = dask.array.linalg.svd(test_cov)\n",
    "n = s.shape[0]\n",
    "\n",
    "# Make test vector\n",
    "mat = np.zeros(n)\n",
    "mat[0:int(n/2)] = 1\n",
    "mat = mat - mat.mean(axis = 0)\n",
    "smat = mat ** 2\n",
    "sums = smat.sum(axis = 0)\n",
    "stvec = mat / np.sqrt(sums)\n",
    "\n",
    "# Make pseudoinverse \n",
    "vals = dask.array.diag(1/s[0:(n-1)])\n",
    "pinv = np.dot(u[0:n,0:(n-1)], vals).dot(u[0:n,0:(n-1)].transpose()).compute()\n",
    "\n",
    "# Calculate Tm\n",
    "K = np.dot(M, X.transpose()) / (M.shape[1] - 1)\n",
    "Tm = np.dot(K,pinv).dot(stvec)\n",
    "Tm.compute()\n",
    "\n",
    "type(stvec)"
   ]
  },
  {
   "cell_type": "code",
   "execution_count": 9,
   "id": "native-fraction",
   "metadata": {},
   "outputs": [],
   "source": [
    "Tvec = np.loadtxt(\"/Users/jenniferblanc/polygenic_adaptation_stratification/output/Calculate_Tm/4PopSplit/S2/Tvec.txt\")"
   ]
  },
  {
   "cell_type": "code",
   "execution_count": 13,
   "id": "hungry-foster",
   "metadata": {},
   "outputs": [
    {
     "data": {
      "text/plain": [
       "(200,)"
      ]
     },
     "execution_count": 13,
     "metadata": {},
     "output_type": "execute_result"
    }
   ],
   "source": [
    "Tvec.shape"
   ]
  }
 ],
 "metadata": {
  "kernelspec": {
   "display_name": "Python 3",
   "language": "python",
   "name": "python3"
  },
  "language_info": {
   "codemirror_mode": {
    "name": "ipython",
    "version": 3
   },
   "file_extension": ".py",
   "mimetype": "text/x-python",
   "name": "python",
   "nbconvert_exporter": "python",
   "pygments_lexer": "ipython3",
   "version": "3.6.7"
  }
 },
 "nbformat": 4,
 "nbformat_minor": 5
}
