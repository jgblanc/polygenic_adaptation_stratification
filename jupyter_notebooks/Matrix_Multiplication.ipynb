{
 "cells": [
  {
   "cell_type": "code",
   "execution_count": 1,
   "id": "analyzed-mambo",
   "metadata": {},
   "outputs": [],
   "source": [
    "from pandas_plink import read_plink\n",
    "import pandas as pd\n",
    "import dask \n",
    "import dask.array as da\n",
    "import dask_ml.preprocessing\n",
    "import numpy as np"
   ]
  },
  {
   "cell_type": "code",
   "execution_count": 2,
   "id": "cellular-dream",
   "metadata": {},
   "outputs": [],
   "source": [
    "#(bim_test, fam_test, G_test) = read_plink('/Users/jenniferblanc/polygenic_adaptation_stratification/output/Simulate_Genotypes/4PopSplit/S2/C1/genos-test_common')\n",
    "#(bim_gwas, fam_gwas, G_gwas) = read_plink('/Users/jenniferblanc/polygenic_adaptation_stratification/output/Simulate_Genotypes/4PopSplit/S2/C1/genos-gwas_common')"
   ]
  },
  {
   "cell_type": "code",
   "execution_count": 2,
   "id": "massive-struggle",
   "metadata": {},
   "outputs": [
    {
     "name": "stderr",
     "output_type": "stream",
     "text": [
      "Mapping files: 100%|██████████| 3/3 [00:00<00:00, 26.78it/s]\n",
      "Mapping files: 100%|██████████| 3/3 [00:00<00:00, 39.28it/s]\n"
     ]
    }
   ],
   "source": [
    "(bim_test, fam_test, G_test) = read_plink('/Users/jenniferblanc/scratch/practice2')\n",
    "(bim_gwas, fam_gwas, G_gwas) = read_plink('/Users/jenniferblanc/scratch/practice2')\n"
   ]
  },
  {
   "cell_type": "code",
   "execution_count": 3,
   "id": "raised-resident",
   "metadata": {},
   "outputs": [],
   "source": [
    "# Mean Center Test\n",
    "X = G_test.transpose()\n",
    "scaler = dask_ml.preprocessing.StandardScaler(with_mean=True, with_std=False).fit(X)\n",
    "X = scaler.transform(X)\n",
    "\n",
    "# Mean Center GWAS\n",
    "M = G_gwas.transpose()\n",
    "scaler = dask_ml.preprocessing.StandardScaler(with_mean=True, with_std=False).fit(M)\n",
    "M = scaler.transform(M)"
   ]
  },
  {
   "cell_type": "code",
   "execution_count": 4,
   "id": "configured-evolution",
   "metadata": {},
   "outputs": [
    {
     "name": "stdout",
     "output_type": "stream",
     "text": [
      "[ 0.09999968  0.1000137   0.09999543  0.09999992  0.10000921  0.09999425\n",
      "  0.09999653  0.10001465  0.10001292  0.10000441  0.10000795  0.10001284\n",
      "  0.10001205  0.09999748  0.10000732  0.09999212  0.10002119  0.10000662\n",
      "  0.10000992  0.09998401  0.09997464  0.10001134  0.10001307  0.09999827\n",
      "  0.10002473  0.09999409  0.09999488  0.10000646  0.09999984  0.09998259\n",
      "  0.09999827  0.09999732  0.09998582  0.10000693  0.09998338  0.10001433\n",
      "  0.10000756  0.10000283  0.10000638  0.10000795  0.10000031  0.10000725\n",
      "  0.09998944  0.1000026   0.09999157  0.10001118  0.09999787  0.10000094\n",
      "  0.09998913  0.100013   -0.10000418 -0.10000087 -0.09999976 -0.10000441\n",
      " -0.10000827 -0.10000496 -0.09999031 -0.10000425 -0.10000339 -0.1000089\n",
      " -0.10001591 -0.0999978  -0.10000701 -0.10000473 -0.10000835 -0.10000906\n",
      " -0.09999764 -0.1000015  -0.09999913 -0.10001071 -0.10002229 -0.10000504\n",
      " -0.10000733 -0.1000256  -0.10000536 -0.09999047 -0.10000922 -0.09997708\n",
      " -0.09999315 -0.10001056 -0.10000047 -0.09999661 -0.1000093  -0.09999157\n",
      " -0.09999732 -0.1000015  -0.10001473 -0.10001174 -0.09997472 -0.0999948\n",
      " -0.09998535 -0.10000638 -0.10000622 -0.10000465 -0.09999488 -0.09998724\n",
      " -0.09999953 -0.10000229 -0.10000221 -0.09999748]\n"
     ]
    }
   ],
   "source": [
    "# Calculate Test covariance matrix \n",
    "test_cov = dask.array.cov(X)\n",
    "\n",
    "# SVD of covariance matrix \n",
    "u, s, v = dask.array.linalg.svd(test_cov)\n",
    "n = s.shape[0]\n",
    "\n",
    "# Make test vector\n",
    "mat = np.zeros(n)\n",
    "mat[0:int(n/2)] = 1\n",
    "mat = mat - mat.mean(axis = 0)\n",
    "smat = mat ** 2\n",
    "sums = smat.sum(axis = 0)\n",
    "stvec = mat / np.sqrt(sums)\n",
    "\n",
    "# Make pseudoinverse \n",
    "vals = dask.array.diag(1/s[0:(n-1)])\n",
    "pinv = np.dot(u[0:n,0:(n-1)], vals).dot(u[0:n,0:(n-1)].transpose()).compute()\n",
    "\n",
    "# Calculate Tm\n",
    "K = np.dot(M, X.transpose()) / (M.shape[1] - 1)\n",
    "Tm = np.dot(K,pinv).dot(stvec)\n",
    "Tm = Tm.compute()\n",
    "\n",
    "print(Tm)"
   ]
  },
  {
   "cell_type": "code",
   "execution_count": 5,
   "id": "african-black",
   "metadata": {},
   "outputs": [
    {
     "data": {
      "text/plain": [
       "array([ 0.09999968,  0.1000137 ,  0.09999543,  0.09999992,  0.10000921,\n",
       "        0.09999425,  0.09999653,  0.10001465,  0.10001292,  0.10000441,\n",
       "        0.10000795,  0.10001284,  0.10001205,  0.09999748,  0.10000732,\n",
       "        0.09999212,  0.10002119,  0.10000662,  0.10000992,  0.09998401,\n",
       "        0.09997464,  0.10001134,  0.10001307,  0.09999827,  0.10002473,\n",
       "        0.09999409,  0.09999488,  0.10000646,  0.09999984,  0.09998259,\n",
       "        0.09999827,  0.09999732,  0.09998582,  0.10000693,  0.09998338,\n",
       "        0.10001433,  0.10000756,  0.10000283,  0.10000638,  0.10000795,\n",
       "        0.10000031,  0.10000725,  0.09998944,  0.1000026 ,  0.09999157,\n",
       "        0.10001118,  0.09999787,  0.10000094,  0.09998913,  0.100013  ,\n",
       "       -0.10000418, -0.10000087, -0.09999976, -0.10000441, -0.10000827,\n",
       "       -0.10000496, -0.09999031, -0.10000425, -0.10000339, -0.1000089 ,\n",
       "       -0.10001591, -0.0999978 , -0.10000701, -0.10000473, -0.10000835,\n",
       "       -0.10000906, -0.09999764, -0.1000015 , -0.09999913, -0.10001071,\n",
       "       -0.10002229, -0.10000504, -0.10000733, -0.1000256 , -0.10000536,\n",
       "       -0.09999047, -0.10000922, -0.09997708, -0.09999315, -0.10001056,\n",
       "       -0.10000047, -0.09999661, -0.1000093 , -0.09999157, -0.09999732,\n",
       "       -0.1000015 , -0.10001473, -0.10001174, -0.09997472, -0.0999948 ,\n",
       "       -0.09998535, -0.10000638, -0.10000622, -0.10000465, -0.09999488,\n",
       "       -0.09998724, -0.09999953, -0.10000229, -0.10000221, -0.09999748])"
      ]
     },
     "execution_count": 5,
     "metadata": {},
     "output_type": "execute_result"
    }
   ],
   "source": [
    "# Calculate Test covariance matrix \n",
    "test_cov = dask.array.cov(X)\n",
    "\n",
    "# SVD of covariance matrix \n",
    "u, s, v = dask.array.linalg.svd_compressed(test_cov, test_cov.shape[0])\n",
    "n = s.shape[0]\n",
    "\n",
    "# Make test vector\n",
    "mat = np.zeros(n)\n",
    "mat[0:int(n/2)] = 1\n",
    "mat = mat - mat.mean(axis = 0)\n",
    "smat = mat ** 2\n",
    "sums = smat.sum(axis = 0)\n",
    "stvec = mat / np.sqrt(sums)\n",
    "\n",
    "# Make pseudoinverse \n",
    "vals = dask.array.diag(1/s[0:(n-1)])\n",
    "pinv = np.dot(u[0:n,0:(n-1)], vals).dot(u[0:n,0:(n-1)].transpose())\n",
    "\n",
    "# Calculate Tm\n",
    "K = np.dot(M, X.transpose()) / (M.shape[1] - 1)\n",
    "Tm = np.dot(K,pinv).dot(stvec)\n",
    "\n",
    "Tm.compute()"
   ]
  },
  {
   "cell_type": "code",
   "execution_count": 7,
   "id": "large-mouth",
   "metadata": {},
   "outputs": [
    {
     "data": {
      "text/plain": [
       "array([ 0.1,  0.1,  0.1,  0.1,  0.1,  0.1,  0.1,  0.1,  0.1,  0.1,  0.1,\n",
       "        0.1,  0.1,  0.1,  0.1,  0.1,  0.1,  0.1,  0.1,  0.1,  0.1,  0.1,\n",
       "        0.1,  0.1,  0.1,  0.1,  0.1,  0.1,  0.1,  0.1,  0.1,  0.1,  0.1,\n",
       "        0.1,  0.1,  0.1,  0.1,  0.1,  0.1,  0.1,  0.1,  0.1,  0.1,  0.1,\n",
       "        0.1,  0.1,  0.1,  0.1,  0.1,  0.1, -0.1, -0.1, -0.1, -0.1, -0.1,\n",
       "       -0.1, -0.1, -0.1, -0.1, -0.1, -0.1, -0.1, -0.1, -0.1, -0.1, -0.1,\n",
       "       -0.1, -0.1, -0.1, -0.1, -0.1, -0.1, -0.1, -0.1, -0.1, -0.1, -0.1,\n",
       "       -0.1, -0.1, -0.1, -0.1, -0.1, -0.1, -0.1, -0.1, -0.1, -0.1, -0.1,\n",
       "       -0.1, -0.1, -0.1, -0.1, -0.1, -0.1, -0.1, -0.1, -0.1, -0.1, -0.1,\n",
       "       -0.1])"
      ]
     },
     "execution_count": 7,
     "metadata": {},
     "output_type": "execute_result"
    }
   ],
   "source": [
    "# SVD of covariance matrix \n",
    "u, s, v = dask.array.linalg.svd_compressed(X, X.shape[0])\n",
    "n = s.shape[0]\n",
    "\n",
    "# Make test vector\n",
    "mat = np.zeros(n)\n",
    "mat[0:int(n/2)] = 1\n",
    "mat = mat - mat.mean(axis = 0)\n",
    "smat = mat ** 2\n",
    "sums = smat.sum(axis = 0)\n",
    "stvec = mat / np.sqrt(sums)\n",
    "\n",
    "# Make pseudoinverse \n",
    "s = da.square(s) / (X.shape[1] -1)\n",
    "#print(s.compute())\n",
    "vals = dask.array.diag(1/(s[0:(n-1)]))\n",
    "pinv = np.dot(u[0:n,0:(n-1)], vals).dot(u[0:n,0:(n-1)].transpose())\n",
    "\n",
    "# Calculate Tm\n",
    "K = np.dot(M, X.transpose()) / (M.shape[1] - 1)\n",
    "Tm = np.dot(K,pinv).dot(stvec)\n",
    "\n",
    "Tm.compute()"
   ]
  },
  {
   "cell_type": "code",
   "execution_count": 24,
   "id": "solid-amazon",
   "metadata": {},
   "outputs": [
    {
     "ename": "AttributeError",
     "evalue": "module 'dask.array.linalg' has no attribute 'eig'",
     "output_type": "error",
     "traceback": [
      "\u001b[0;31m---------------------------------------------------------------------------\u001b[0m",
      "\u001b[0;31mAttributeError\u001b[0m                            Traceback (most recent call last)",
      "\u001b[0;32m<ipython-input-24-415925a304ce>\u001b[0m in \u001b[0;36m<module>\u001b[0;34m()\u001b[0m\n\u001b[1;32m      1\u001b[0m \u001b[0;31m# SVD of covariance matrix\u001b[0m\u001b[0;34m\u001b[0m\u001b[0;34m\u001b[0m\u001b[0;34m\u001b[0m\u001b[0m\n\u001b[0;32m----> 2\u001b[0;31m \u001b[0mu\u001b[0m\u001b[0;34m,\u001b[0m \u001b[0ms\u001b[0m \u001b[0;34m=\u001b[0m \u001b[0mdask\u001b[0m\u001b[0;34m.\u001b[0m\u001b[0marray\u001b[0m\u001b[0;34m.\u001b[0m\u001b[0mlinalg\u001b[0m\u001b[0;34m.\u001b[0m\u001b[0meig\u001b[0m\u001b[0;34m(\u001b[0m\u001b[0mX\u001b[0m\u001b[0;34m,\u001b[0m \u001b[0mX\u001b[0m\u001b[0;34m.\u001b[0m\u001b[0mshape\u001b[0m\u001b[0;34m[\u001b[0m\u001b[0;36m0\u001b[0m\u001b[0;34m]\u001b[0m\u001b[0;34m)\u001b[0m\u001b[0;34m\u001b[0m\u001b[0;34m\u001b[0m\u001b[0m\n\u001b[0m\u001b[1;32m      3\u001b[0m \u001b[0mn\u001b[0m \u001b[0;34m=\u001b[0m \u001b[0ms\u001b[0m\u001b[0;34m.\u001b[0m\u001b[0mshape\u001b[0m\u001b[0;34m[\u001b[0m\u001b[0;36m0\u001b[0m\u001b[0;34m]\u001b[0m\u001b[0;34m\u001b[0m\u001b[0;34m\u001b[0m\u001b[0m\n\u001b[1;32m      4\u001b[0m \u001b[0;34m\u001b[0m\u001b[0m\n\u001b[1;32m      5\u001b[0m \u001b[0;31m# Make test vector\u001b[0m\u001b[0;34m\u001b[0m\u001b[0;34m\u001b[0m\u001b[0;34m\u001b[0m\u001b[0m\n",
      "\u001b[0;31mAttributeError\u001b[0m: module 'dask.array.linalg' has no attribute 'eig'"
     ]
    }
   ],
   "source": [
    "# SVD of covariance matrix \n",
    "u, s = dask.array.linalg.eig(X, X.shape[0])\n",
    "n = s.shape[0]\n",
    "\n",
    "# Make test vector\n",
    "mat = np.zeros(n)\n",
    "mat[0:int(n/2)] = 1\n",
    "mat = mat - mat.mean(axis = 0)\n",
    "smat = mat ** 2\n",
    "sums = smat.sum(axis = 0)\n",
    "stvec = mat / np.sqrt(sums)\n",
    "\n",
    "# Make pseudoinverse \n",
    "s = da.square(s)\n",
    "print(s.compute())\n",
    "vals = dask.array.diag(1/(s[0:(n-1)]))\n",
    "pinv = np.dot(u[0:n,0:(n-1)], vals).dot(u[0:n,0:(n-1)].transpose())\n",
    "\n",
    "# Calculate Tm\n",
    "K = np.dot(M, X.transpose()) / (M.shape[1] - 1)\n",
    "Tm = np.dot(K,pinv).dot(stvec)\n",
    "\n",
    "Tm.compute()"
   ]
  },
  {
   "cell_type": "code",
   "execution_count": 22,
   "id": "unknown-exercise",
   "metadata": {},
   "outputs": [
    {
     "name": "stdout",
     "output_type": "stream",
     "text": [
      "dask.array<sub, shape=(100, 45361), dtype=float64, chunksize=(100, 1024), chunktype=numpy.ndarray>\n"
     ]
    }
   ],
   "source": [
    "#file_name=\"/Users/jenniferblanc/Test.txt\"\n",
    "#outF = open(file_name, \"w\")\n",
    "#for i in range(Tm.shape[0]):\n",
    "#    print(i)\n",
    "#    outF.write(str(Tm[i].compute()))\n",
    "#outF.close()\n",
    "\n",
    "print(X)"
   ]
  },
  {
   "cell_type": "code",
   "execution_count": 9,
   "id": "japanese-juice",
   "metadata": {},
   "outputs": [],
   "source": [
    "Tvec = np.loadtxt(\"/Users/jenniferblanc/polygenic_adaptation_stratification/output/Calculate_Tm/4PopSplit/S2/Tvec.txt\")"
   ]
  },
  {
   "cell_type": "code",
   "execution_count": 18,
   "id": "particular-julian",
   "metadata": {},
   "outputs": [],
   "source": [
    "#da.store(Tm, /Users/jenniferblanc/scratch/testTm\")\n",
    "da.to_hdf5('/Users/jenniferblanc/scratch/testTm.hdf5', '/output', Tm)"
   ]
  }
 ],
 "metadata": {
  "kernelspec": {
   "display_name": "Python 3",
   "language": "python",
   "name": "python3"
  },
  "language_info": {
   "codemirror_mode": {
    "name": "ipython",
    "version": 3
   },
   "file_extension": ".py",
   "mimetype": "text/x-python",
   "name": "python",
   "nbconvert_exporter": "python",
   "pygments_lexer": "ipython3",
   "version": "3.6.7"
  }
 },
 "nbformat": 4,
 "nbformat_minor": 5
}
