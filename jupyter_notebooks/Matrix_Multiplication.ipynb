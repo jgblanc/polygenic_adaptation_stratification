{
 "cells": [
  {
   "cell_type": "code",
   "execution_count": 2,
   "id": "analyzed-mambo",
   "metadata": {},
   "outputs": [],
   "source": [
    "from pandas_plink import read_plink\n",
    "import pandas as pd\n",
    "import dask \n",
    "import dask.array as da\n",
    "import dask_ml.preprocessing\n",
    "import numpy as np"
   ]
  },
  {
   "cell_type": "code",
   "execution_count": 2,
   "id": "cellular-dream",
   "metadata": {},
   "outputs": [],
   "source": [
    "#(bim_test, fam_test, G_test) = read_plink('/Users/jenniferblanc/polygenic_adaptation_stratification/output/Simulate_Genotypes/4PopSplit/S2/C1/genos-test_common')\n",
    "#(bim_gwas, fam_gwas, G_gwas) = read_plink('/Users/jenniferblanc/polygenic_adaptation_stratification/output/Simulate_Genotypes/4PopSplit/S2/C1/genos-gwas_common')"
   ]
  },
  {
   "cell_type": "code",
   "execution_count": 3,
   "id": "massive-struggle",
   "metadata": {},
   "outputs": [
    {
     "name": "stderr",
     "output_type": "stream",
     "text": [
      "Mapping files: 100%|██████████| 3/3 [00:00<00:00, 29.30it/s]\n",
      "Mapping files: 100%|██████████| 3/3 [00:00<00:00, 36.58it/s]\n"
     ]
    }
   ],
   "source": [
    "(bim_test, fam_test, G_test) = read_plink('/Users/jenniferblanc/scratch/practice2')\n",
    "(bim_gwas, fam_gwas, G_gwas) = read_plink('/Users/jenniferblanc/scratch/practice2')\n"
   ]
  },
  {
   "cell_type": "code",
   "execution_count": 26,
   "id": "raised-resident",
   "metadata": {},
   "outputs": [
    {
     "data": {
      "text/plain": [
       "array([[ 0.01,  0.65,  0.02, ...,  0.06,  0.02,  0.01],\n",
       "       [ 0.01,  0.65,  0.02, ...,  0.06,  0.02,  0.01],\n",
       "       [ 0.01,  0.65,  0.02, ...,  0.06,  0.02,  0.01],\n",
       "       ...,\n",
       "       [ 0.01, -0.35,  0.02, ...,  0.06,  0.02,  0.01],\n",
       "       [ 0.01, -0.35,  0.02, ...,  0.06,  0.02,  0.01],\n",
       "       [ 0.01, -0.35,  0.02, ...,  0.06,  0.02,  0.01]])"
      ]
     },
     "execution_count": 26,
     "metadata": {},
     "output_type": "execute_result"
    }
   ],
   "source": [
    "# Mean Center Test\n",
    "X = G_test.transpose()\n",
    "scaler = dask_ml.preprocessing.StandardScaler(with_mean=True, with_std=False).fit(X)\n",
    "X = scaler.transform(X)\n",
    "\n",
    "# Mean Center GWAS\n",
    "M = G_gwas.transpose()\n",
    "scaler = dask_ml.preprocessing.StandardScaler(with_mean=True, with_std=False).fit(M)\n",
    "M = scaler.transform(M)\n"
   ]
  },
  {
   "cell_type": "code",
   "execution_count": 30,
   "id": "configured-evolution",
   "metadata": {},
   "outputs": [
    {
     "name": "stdout",
     "output_type": "stream",
     "text": [
      "[1.81307640e+00 7.40247160e-01 7.23882722e-01 1.55978577e-01\n",
      " 1.52268980e-01 1.48400657e-01 1.39678984e-01 1.38267153e-01\n",
      " 1.35395737e-01 1.33517740e-01 1.32123840e-01 1.29542960e-01\n",
      " 1.28626007e-01 1.27031896e-01 1.23973820e-01 1.21614540e-01\n",
      " 1.20881115e-01 1.18112240e-01 1.17607344e-01 1.16605537e-01\n",
      " 1.15571335e-01 1.14425343e-01 1.12711056e-01 1.11322145e-01\n",
      " 1.10204250e-01 1.09062465e-01 1.08369042e-01 1.07127559e-01\n",
      " 1.05347683e-01 1.05323948e-01 1.03071717e-01 1.02810947e-01\n",
      " 1.01730721e-01 9.97746646e-02 9.88898027e-02 9.84895872e-02\n",
      " 9.67475916e-02 9.49590634e-02 9.42563098e-02 9.36683340e-02\n",
      " 9.33362780e-02 9.20581869e-02 9.11812569e-02 8.97643196e-02\n",
      " 8.94619146e-02 8.91625114e-02 8.83682125e-02 8.77454864e-02\n",
      " 8.58734365e-02 8.56009587e-02 8.48164081e-02 8.43373614e-02\n",
      " 8.37133641e-02 8.25394851e-02 8.12445572e-02 8.04286194e-02\n",
      " 7.98176053e-02 7.96605214e-02 7.76019564e-02 7.71317253e-02\n",
      " 7.65762008e-02 7.52522903e-02 7.46030242e-02 7.44001417e-02\n",
      " 7.38422669e-02 7.22670310e-02 7.20707167e-02 7.15109910e-02\n",
      " 7.08670253e-02 6.98478556e-02 6.91122136e-02 6.74863756e-02\n",
      " 6.71648261e-02 6.58679746e-02 6.54895799e-02 6.49842726e-02\n",
      " 6.48650671e-02 6.41754861e-02 6.36342000e-02 6.21449110e-02\n",
      " 6.16584293e-02 6.12455071e-02 6.01883462e-02 5.94002139e-02\n",
      " 5.89511631e-02 5.85416929e-02 5.78142564e-02 5.69257198e-02\n",
      " 5.66094246e-02 5.52100918e-02 5.47181059e-02 5.23876781e-02\n",
      " 5.16033466e-02 5.08512774e-02 4.94682278e-02 4.80499352e-02\n",
      " 4.61628606e-02 4.33987127e-02 4.28459621e-02 2.61387140e-18]\n"
     ]
    }
   ],
   "source": [
    "# Calculate Test covariance matrix \n",
    "test_cov = dask.array.cov(X)\n",
    "\n",
    "# SVD of covariance matrix \n",
    "u, s, v = dask.array.linalg.svd(test_cov)\n",
    "n = s.shape[0]\n",
    "\n",
    "# Make test vector\n",
    "mat = np.zeros(n)\n",
    "mat[0:int(n/2)] = 1\n",
    "mat = mat - mat.mean(axis = 0)\n",
    "smat = mat ** 2\n",
    "sums = smat.sum(axis = 0)\n",
    "stvec = mat / np.sqrt(sums)\n",
    "\n",
    "# Make pseudoinverse \n",
    "vals = dask.array.diag(1/s[0:(n-1)])\n",
    "#print(vals.compute())\n",
    "pinv = np.dot(u[0:n,0:(n-1)], vals).dot(u[0:n,0:(n-1)].transpose()).compute()\n",
    "\n",
    "# Calculate Tm\n",
    "K = np.dot(M, X.transpose()) / (M.shape[1] - 1)\n",
    "Tm = np.dot(K,pinv).dot(stvec)\n",
    "Tm = Tm.compute()\n",
    "\n",
    "print(s.compute())"
   ]
  },
  {
   "cell_type": "code",
   "execution_count": 7,
   "id": "african-black",
   "metadata": {},
   "outputs": [
    {
     "data": {
      "text/plain": [
       "array([ 0.09999968,  0.1000137 ,  0.09999543,  0.09999992,  0.10000921,\n",
       "        0.09999425,  0.09999653,  0.10001465,  0.10001292,  0.10000441,\n",
       "        0.10000795,  0.10001284,  0.10001205,  0.09999748,  0.10000732,\n",
       "        0.09999212,  0.10002119,  0.10000662,  0.10000992,  0.09998401,\n",
       "        0.09997464,  0.10001134,  0.10001307,  0.09999827,  0.10002473,\n",
       "        0.09999409,  0.09999488,  0.10000646,  0.09999984,  0.09998259,\n",
       "        0.09999827,  0.09999732,  0.09998582,  0.10000693,  0.09998338,\n",
       "        0.10001433,  0.10000756,  0.10000283,  0.10000638,  0.10000795,\n",
       "        0.10000031,  0.10000725,  0.09998944,  0.1000026 ,  0.09999157,\n",
       "        0.10001118,  0.09999787,  0.10000094,  0.09998913,  0.100013  ,\n",
       "       -0.10000418, -0.10000087, -0.09999976, -0.10000441, -0.10000827,\n",
       "       -0.10000496, -0.09999031, -0.10000425, -0.10000339, -0.1000089 ,\n",
       "       -0.10001591, -0.0999978 , -0.10000701, -0.10000473, -0.10000835,\n",
       "       -0.10000906, -0.09999764, -0.1000015 , -0.09999913, -0.10001071,\n",
       "       -0.10002229, -0.10000504, -0.10000733, -0.1000256 , -0.10000536,\n",
       "       -0.09999047, -0.10000922, -0.09997708, -0.09999315, -0.10001056,\n",
       "       -0.10000047, -0.09999661, -0.1000093 , -0.09999157, -0.09999732,\n",
       "       -0.1000015 , -0.10001473, -0.10001174, -0.09997472, -0.0999948 ,\n",
       "       -0.09998535, -0.10000638, -0.10000622, -0.10000465, -0.09999488,\n",
       "       -0.09998724, -0.09999953, -0.10000229, -0.10000221, -0.09999748])"
      ]
     },
     "execution_count": 7,
     "metadata": {},
     "output_type": "execute_result"
    }
   ],
   "source": [
    "# Calculate Test covariance matrix \n",
    "test_cov = dask.array.cov(X)\n",
    "\n",
    "# SVD of covariance matrix \n",
    "u, s, v = dask.array.linalg.svd_compressed(test_cov, test_cov.shape[0])\n",
    "n = s.shape[0]\n",
    "\n",
    "# Make test vector\n",
    "mat = np.zeros(n)\n",
    "mat[0:int(n/2)] = 1\n",
    "mat = mat - mat.mean(axis = 0)\n",
    "smat = mat ** 2\n",
    "sums = smat.sum(axis = 0)\n",
    "stvec = mat / np.sqrt(sums)\n",
    "\n",
    "# Make pseudoinverse \n",
    "vals = dask.array.diag(1/s[0:(n-1)])\n",
    "pinv = np.dot(u[0:n,0:(n-1)], vals).dot(u[0:n,0:(n-1)].transpose())\n",
    "\n",
    "# Calculate Tm\n",
    "K = np.dot(M, X.transpose()) / (M.shape[1] - 1)\n",
    "Tm = np.dot(K,pinv).dot(stvec)\n",
    "\n",
    "Tm.compute()"
   ]
  },
  {
   "cell_type": "code",
   "execution_count": 8,
   "id": "large-mouth",
   "metadata": {},
   "outputs": [
    {
     "name": "stdout",
     "output_type": "stream",
     "text": [
      "[1.81311546e+00 7.40313421e-01 7.23885971e-01 1.55978584e-01\n",
      " 1.52292375e-01 1.48436403e-01 1.39727369e-01 1.38267175e-01\n",
      " 1.35400696e-01 1.33544938e-01 1.32125100e-01 1.29568133e-01\n",
      " 1.28630927e-01 1.27032444e-01 1.23974504e-01 1.21623109e-01\n",
      " 1.20881449e-01 1.18128346e-01 1.17627791e-01 1.16606292e-01\n",
      " 1.15581636e-01 1.14425481e-01 1.12712649e-01 1.11326368e-01\n",
      " 1.10208099e-01 1.09066118e-01 1.08373965e-01 1.07141679e-01\n",
      " 1.05347864e-01 1.05330031e-01 1.03072270e-01 1.02846374e-01\n",
      " 1.01736493e-01 9.97870128e-02 9.89327594e-02 9.85323567e-02\n",
      " 9.67584649e-02 9.49590697e-02 9.42568550e-02 9.36721844e-02\n",
      " 9.33509395e-02 9.20731916e-02 9.11853010e-02 8.97647924e-02\n",
      " 8.94625044e-02 8.91627783e-02 8.83687932e-02 8.77495574e-02\n",
      " 8.58927035e-02 8.56009792e-02 8.48179914e-02 8.43380685e-02\n",
      " 8.37177370e-02 8.25395801e-02 8.12733850e-02 8.04292078e-02\n",
      " 7.98203238e-02 7.96605620e-02 7.76029205e-02 7.71319489e-02\n",
      " 7.65762065e-02 7.52805028e-02 7.46111702e-02 7.44083306e-02\n",
      " 7.38440780e-02 7.22778591e-02 7.20754787e-02 7.15110191e-02\n",
      " 7.08714470e-02 6.98516166e-02 6.91135003e-02 6.74891760e-02\n",
      " 6.71686120e-02 6.58867043e-02 6.54972332e-02 6.50013283e-02\n",
      " 6.48778651e-02 6.41760678e-02 6.36344164e-02 6.21469695e-02\n",
      " 6.16585031e-02 6.12466179e-02 6.01985006e-02 5.94006015e-02\n",
      " 5.89512473e-02 5.85425347e-02 5.78214471e-02 5.69297259e-02\n",
      " 5.66122633e-02 5.52113424e-02 5.47196217e-02 5.23939847e-02\n",
      " 5.16059097e-02 5.08529620e-02 4.94699386e-02 4.80507237e-02\n",
      " 4.61630682e-02 4.34019423e-02 4.28467272e-02 2.51758227e-31]\n"
     ]
    },
    {
     "data": {
      "text/plain": [
       "array([ 0.1,  0.1,  0.1,  0.1,  0.1,  0.1,  0.1,  0.1,  0.1,  0.1,  0.1,\n",
       "        0.1,  0.1,  0.1,  0.1,  0.1,  0.1,  0.1,  0.1,  0.1,  0.1,  0.1,\n",
       "        0.1,  0.1,  0.1,  0.1,  0.1,  0.1,  0.1,  0.1,  0.1,  0.1,  0.1,\n",
       "        0.1,  0.1,  0.1,  0.1,  0.1,  0.1,  0.1,  0.1,  0.1,  0.1,  0.1,\n",
       "        0.1,  0.1,  0.1,  0.1,  0.1,  0.1, -0.1, -0.1, -0.1, -0.1, -0.1,\n",
       "       -0.1, -0.1, -0.1, -0.1, -0.1, -0.1, -0.1, -0.1, -0.1, -0.1, -0.1,\n",
       "       -0.1, -0.1, -0.1, -0.1, -0.1, -0.1, -0.1, -0.1, -0.1, -0.1, -0.1,\n",
       "       -0.1, -0.1, -0.1, -0.1, -0.1, -0.1, -0.1, -0.1, -0.1, -0.1, -0.1,\n",
       "       -0.1, -0.1, -0.1, -0.1, -0.1, -0.1, -0.1, -0.1, -0.1, -0.1, -0.1,\n",
       "       -0.1])"
      ]
     },
     "execution_count": 8,
     "metadata": {},
     "output_type": "execute_result"
    }
   ],
   "source": [
    "# SVD of data matrix \n",
    "u, s, v = dask.array.linalg.svd_compressed(X, X.shape[0])\n",
    "n = s.shape[0]\n",
    "\n",
    "# Make test vector\n",
    "mat = np.zeros(n)\n",
    "mat[0:int(n/2)] = 1\n",
    "mat = mat - mat.mean(axis = 0)\n",
    "smat = mat ** 2\n",
    "sums = smat.sum(axis = 0)\n",
    "stvec = mat / np.sqrt(sums)\n",
    "\n",
    "# Make pseudoinverse \n",
    "s = da.square(s) / (X.shape[1] -1)\n",
    "print(s.compute())\n",
    "vals = dask.array.diag(1/(s[0:(n-1)]))\n",
    "pinv = np.dot(u[0:n,0:(n-1)], vals).dot(u[0:n,0:(n-1)].transpose())\n",
    "\n",
    "# Calculate Tm\n",
    "K = np.dot(M, X.transpose()) / (M.shape[1] - 1)\n",
    "Tm = np.dot(K,pinv).dot(stvec)\n",
    "\n",
    "Tm.compute()"
   ]
  },
  {
   "cell_type": "code",
   "execution_count": 24,
   "id": "solid-amazon",
   "metadata": {},
   "outputs": [
    {
     "ename": "AttributeError",
     "evalue": "module 'dask.array.linalg' has no attribute 'eig'",
     "output_type": "error",
     "traceback": [
      "\u001b[0;31m---------------------------------------------------------------------------\u001b[0m",
      "\u001b[0;31mAttributeError\u001b[0m                            Traceback (most recent call last)",
      "\u001b[0;32m<ipython-input-24-415925a304ce>\u001b[0m in \u001b[0;36m<module>\u001b[0;34m()\u001b[0m\n\u001b[1;32m      1\u001b[0m \u001b[0;31m# SVD of covariance matrix\u001b[0m\u001b[0;34m\u001b[0m\u001b[0;34m\u001b[0m\u001b[0;34m\u001b[0m\u001b[0m\n\u001b[0;32m----> 2\u001b[0;31m \u001b[0mu\u001b[0m\u001b[0;34m,\u001b[0m \u001b[0ms\u001b[0m \u001b[0;34m=\u001b[0m \u001b[0mdask\u001b[0m\u001b[0;34m.\u001b[0m\u001b[0marray\u001b[0m\u001b[0;34m.\u001b[0m\u001b[0mlinalg\u001b[0m\u001b[0;34m.\u001b[0m\u001b[0meig\u001b[0m\u001b[0;34m(\u001b[0m\u001b[0mX\u001b[0m\u001b[0;34m,\u001b[0m \u001b[0mX\u001b[0m\u001b[0;34m.\u001b[0m\u001b[0mshape\u001b[0m\u001b[0;34m[\u001b[0m\u001b[0;36m0\u001b[0m\u001b[0;34m]\u001b[0m\u001b[0;34m)\u001b[0m\u001b[0;34m\u001b[0m\u001b[0;34m\u001b[0m\u001b[0m\n\u001b[0m\u001b[1;32m      3\u001b[0m \u001b[0mn\u001b[0m \u001b[0;34m=\u001b[0m \u001b[0ms\u001b[0m\u001b[0;34m.\u001b[0m\u001b[0mshape\u001b[0m\u001b[0;34m[\u001b[0m\u001b[0;36m0\u001b[0m\u001b[0;34m]\u001b[0m\u001b[0;34m\u001b[0m\u001b[0;34m\u001b[0m\u001b[0m\n\u001b[1;32m      4\u001b[0m \u001b[0;34m\u001b[0m\u001b[0m\n\u001b[1;32m      5\u001b[0m \u001b[0;31m# Make test vector\u001b[0m\u001b[0;34m\u001b[0m\u001b[0;34m\u001b[0m\u001b[0;34m\u001b[0m\u001b[0m\n",
      "\u001b[0;31mAttributeError\u001b[0m: module 'dask.array.linalg' has no attribute 'eig'"
     ]
    }
   ],
   "source": [
    "# SVD of covariance matrix \n",
    "u, s = dask.array.linalg.eig(X, X.shape[0])\n",
    "n = s.shape[0]\n",
    "\n",
    "# Make test vector\n",
    "mat = np.zeros(n)\n",
    "mat[0:int(n/2)] = 1\n",
    "mat = mat - mat.mean(axis = 0)\n",
    "smat = mat ** 2\n",
    "sums = smat.sum(axis = 0)\n",
    "stvec = mat / np.sqrt(sums)\n",
    "\n",
    "# Make pseudoinverse \n",
    "s = da.square(s)\n",
    "print(s.compute())\n",
    "vals = dask.array.diag(1/(s[0:(n-1)]))\n",
    "pinv = np.dot(u[0:n,0:(n-1)], vals).dot(u[0:n,0:(n-1)].transpose())\n",
    "\n",
    "# Calculate Tm\n",
    "K = np.dot(M, X.transpose()) / (M.shape[1] - 1)\n",
    "Tm = np.dot(K,pinv).dot(stvec)\n",
    "\n",
    "Tm.compute()"
   ]
  },
  {
   "cell_type": "code",
   "execution_count": 22,
   "id": "unknown-exercise",
   "metadata": {},
   "outputs": [
    {
     "name": "stdout",
     "output_type": "stream",
     "text": [
      "dask.array<sub, shape=(100, 45361), dtype=float64, chunksize=(100, 1024), chunktype=numpy.ndarray>\n"
     ]
    }
   ],
   "source": [
    "#file_name=\"/Users/jenniferblanc/Test.txt\"\n",
    "#outF = open(file_name, \"w\")\n",
    "#for i in range(Tm.shape[0]):\n",
    "#    print(i)\n",
    "#    outF.write(str(Tm[i].compute()))\n",
    "#outF.close()\n",
    "\n",
    "print(X)"
   ]
  },
  {
   "cell_type": "code",
   "execution_count": 9,
   "id": "japanese-juice",
   "metadata": {},
   "outputs": [],
   "source": [
    "Tvec = np.loadtxt(\"/Users/jenniferblanc/polygenic_adaptation_stratification/output/Calculate_Tm/4PopSplit/S2/Tvec.txt\")"
   ]
  },
  {
   "cell_type": "code",
   "execution_count": 18,
   "id": "particular-julian",
   "metadata": {},
   "outputs": [],
   "source": [
    "#da.store(Tm, /Users/jenniferblanc/scratch/testTm\")\n",
    "da.to_hdf5('/Users/jenniferblanc/scratch/testTm.hdf5', '/output', Tm)"
   ]
  }
 ],
 "metadata": {
  "kernelspec": {
   "display_name": "Python 3",
   "language": "python",
   "name": "python3"
  },
  "language_info": {
   "codemirror_mode": {
    "name": "ipython",
    "version": 3
   },
   "file_extension": ".py",
   "mimetype": "text/x-python",
   "name": "python",
   "nbconvert_exporter": "python",
   "pygments_lexer": "ipython3",
   "version": "3.6.7"
  }
 },
 "nbformat": 4,
 "nbformat_minor": 5
}
