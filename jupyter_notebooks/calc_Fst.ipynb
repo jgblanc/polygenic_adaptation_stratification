{
 "cells": [
  {
   "cell_type": "code",
   "execution_count": 1,
   "id": "detected-commons",
   "metadata": {},
   "outputs": [],
   "source": [
    "import numpy as np\n",
    "import pandas as pd\n",
    "import allel"
   ]
  },
  {
   "cell_type": "code",
   "execution_count": null,
   "id": "critical-footage",
   "metadata": {},
   "outputs": [],
   "source": [
    "vcf = allel.read_vcf(\"/Users/jenniferblanc/polygenic_adaptation_stratification/output/Simulate_Genotypes/4PopSplit/E1/\")\n",
    "gt =  allel.GenotypeArray(vcf['calldata/GT'])"
   ]
  }
 ],
 "metadata": {
  "kernelspec": {
   "display_name": "Python 3",
   "language": "python",
   "name": "python3"
  },
  "language_info": {
   "codemirror_mode": {
    "name": "ipython",
    "version": 3
   },
   "file_extension": ".py",
   "mimetype": "text/x-python",
   "name": "python",
   "nbconvert_exporter": "python",
   "pygments_lexer": "ipython3",
   "version": "3.6.7"
  }
 },
 "nbformat": 4,
 "nbformat_minor": 5
}
